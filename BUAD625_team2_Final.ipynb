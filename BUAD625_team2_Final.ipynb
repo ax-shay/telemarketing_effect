{
 "cells": [
  {
   "cell_type": "markdown",
   "metadata": {},
   "source": [
    "## Project: Predicting Bank Telemarketing\n",
    "### Goal: To predict if the banking clients will subscribe to a term deposit\n",
    "#### Overview: \n",
    "This research project focuses on targeting through telemarketing phone calls to sell long-term deposits. Within a campaign, the human agents execute phone calls to a list of clients to sell the deposit (outbound) or, if meanwhile the client calls the contact-center for any other reason, he is asked to subscribe the deposit (inbound). Thus, the result is a binary unsuccessful or successful contact.<br>\n",
    "#### Data:\n",
    "\n",
    "Dataset Link: https://archive.ics.uci.edu/ml/datasets/bank+marketing\n",
    "\n",
    "There is one input dataset:<br> \n",
    "    **1. bank-additional-full.csv:**\n",
    "    - It has 41188 x 20 inputs, ordered by date (from May 2008 to November 2010)\n",
    "\n",
    "\n",
    "The data is related with direct marketing campaigns of a Portuguese banking institution. The marketing campaigns were based on phone calls. Often, more than one contact to the same client was required, in order to access if the product (bank term deposit) would be ('yes') or not ('no') subscribed. \n",
    "\n",
    "The smallest datasets are provided to test more computationally demanding machine learning algorithms (e.g., SVM). \n",
    "The classification goal is to predict if the client will subscribe (yes/no) a term deposit (variable y).\n",
    "\n",
    "\n",
    "#### Importance of EDA:\n",
    "* Exploratory Data Analysis (EDA) helps understand the number of data attributes, their meaning and data types.\n",
    "* It prompts us to look for anomolies and identify potentially missing/null values, or defaulted values in some specific cases\n",
    "* It also helps ensure the data attributes are coherent i.e. have the same scale/grain so that the data is relevant \n",
    "* A thorough analysis of attriubutes & their corelation can help identify potentially important features that influence the outcome class\n",
    "* Trends in data emerge and we get a better perspective of how different attributes interlace to create new features adding different perspective for modelling \n",
    "\n",
    "\n",
    "#### Finds & Insights:\n",
    "* There are quite a few [categorical](#categorical) attributes (10 to be precise), which will have to be converted into numeric ahead of using them in model(s). We'll be using Label Encoding & one-hot encoding for these purposes\n",
    "* The [missing values](#missing) are few (max. extent being 21% for field default) and so these will be retained in the dataset and assumed to be defaulted as & when required\n",
    "* Certain attributes (namely, emp.var.rate, cons.price.idx, cons.conf.idx, euribor3m and nr.employed) are at a different grain and will have to be [scaled](#scaled) to make them coherent\n",
    "* The outcome variable is vastly [imbalanced](#imbalanced) and stratification of data will be needed to improve accuracy of model\n",
    "* Although the data attributes are weakly [corelated](#corelated) when taken independently, they are showing potential of combining to form composite new attributes (feature engineering) that will help in building better predictive models."
   ]
  },
  {
   "cell_type": "markdown",
   "metadata": {},
   "source": [
    "### Importing Libraries"
   ]
  },
  {
   "cell_type": "code",
   "execution_count": 202,
   "metadata": {},
   "outputs": [],
   "source": [
    "# Linear Algebra\n",
    "import math\n",
    "import numpy as np\n",
    "\n",
    "# Data Processing\n",
    "import pandas as pd\n",
    "\n",
    "# Data Visualization\n",
    "from matplotlib import style\n",
    "import matplotlib.pyplot as plt\n",
    "\n",
    "# Modelling Algorithm\n",
    "import seaborn as sns\n",
    "from sklearn import tree\n",
    "from sklearn.preprocessing import LabelEncoder, OneHotEncoder\n",
    "#import statsmodels.api as sm\n",
    "\n",
    "## important: ensures the visualizations will be in the Notebook\n",
    "%matplotlib inline"
   ]
  },
  {
   "cell_type": "markdown",
   "metadata": {},
   "source": [
    "### Getting Data"
   ]
  },
  {
   "cell_type": "code",
   "execution_count": 203,
   "metadata": {},
   "outputs": [],
   "source": [
    "df_data = pd.read_csv('bank-additional-full.csv', sep=';')"
   ]
  },
  {
   "cell_type": "markdown",
   "metadata": {},
   "source": [
    "### Data Exploration / Analysis"
   ]
  },
  {
   "cell_type": "code",
   "execution_count": 204,
   "metadata": {},
   "outputs": [
    {
     "name": "stdout",
     "output_type": "stream",
     "text": [
      "<class 'pandas.core.frame.DataFrame'>\n",
      "RangeIndex: 41188 entries, 0 to 41187\n",
      "Data columns (total 21 columns):\n",
      " #   Column          Non-Null Count  Dtype  \n",
      "---  ------          --------------  -----  \n",
      " 0   age             41188 non-null  int64  \n",
      " 1   job             41188 non-null  object \n",
      " 2   marital         41188 non-null  object \n",
      " 3   education       41188 non-null  object \n",
      " 4   default         41188 non-null  object \n",
      " 5   housing         41188 non-null  object \n",
      " 6   loan            41188 non-null  object \n",
      " 7   contact         41188 non-null  object \n",
      " 8   month           41188 non-null  object \n",
      " 9   day_of_week     41188 non-null  object \n",
      " 10  duration        41188 non-null  int64  \n",
      " 11  campaign        41188 non-null  int64  \n",
      " 12  pdays           41188 non-null  int64  \n",
      " 13  previous        41188 non-null  int64  \n",
      " 14  poutcome        41188 non-null  object \n",
      " 15  emp.var.rate    41188 non-null  float64\n",
      " 16  cons.price.idx  41188 non-null  float64\n",
      " 17  cons.conf.idx   41188 non-null  float64\n",
      " 18  euribor3m       41188 non-null  float64\n",
      " 19  nr.employed     41188 non-null  float64\n",
      " 20  y               41188 non-null  object \n",
      "dtypes: float64(5), int64(5), object(11)\n",
      "memory usage: 6.6+ MB\n"
     ]
    }
   ],
   "source": [
    "df_data.info()"
   ]
  },
  {
   "cell_type": "markdown",
   "metadata": {},
   "source": [
    "* The Dataset has 41, 188 records with 20 features + 1 target variable 'y' (subscribed to term deposit)\n",
    "* Data Types are:\n",
    "    - 5 Integers\n",
    "    - 5 Floats\n",
    "    - 11 Objects \n",
    "* Below are the 21 features <a name=\"categorical\"></a> listed with short description for each\n",
    "    1. **age**           : Integer value for Age of the potential client\n",
    "    2. **job**           : categorical column describing Job of the potential client\n",
    "    3. **marital status**: categorical column describing Marital status of the potential client\n",
    "    4. **education**     : categorical column describing Education of the potential client\n",
    "    5. **default**       : categorical column representing whether the potential client has credit in default\n",
    "    6. **housing**       : categorical column representing whether the potential client has housing loan\n",
    "    7. **loan**          : categorical column representing whether the potential client has personal loan\n",
    "    8. **contact**       : categorical column representing type of communication channel used\n",
    "    9. **month**         : categorical column indicating the month when the potential client was last contacted\n",
    "    10. **day_of_week**  : categorical column indicating the last contact day of the week of the month when contacted\n",
    "    11. **duration**     : numerical columns indicating last contact duration (in seconds)\n",
    "    12. **campaign**     : numerical columns indicating the # of times potential client was contacted\n",
    "    13. **pdays**        : numerical columns indicating number of days since last contacted from a previous campaign\n",
    "    14. **previous**     : numerical columns indicating the # of times potential client was contacted, previously\n",
    "    15. **poutcome**     : categorical column indicating the outcome of the previous marketing campaign\n",
    "    16. **emp.var.rate** : numerical column showing the 'quarterly' employment variation rate\n",
    "    17. **cons.price.idx** : numerical column showing the 'monthly' consumer price index\n",
    "    18. **cons.conf.idx**  : numerical column showing the 'monthly' consumer confidence index\n",
    "    19. **euribor3m**    : numerical column showing the 'daily' euribor 3 month rate\n",
    "    20. **nr.employed**  : numerical column showing the 'quarterly' number of employees employeed\n",
    "    21. **y**            : binary column indication whether has the 'potential' client subscribed a term deposit"
   ]
  },
  {
   "cell_type": "markdown",
   "metadata": {},
   "source": [
    "### Rationalizing the Final Output column\n",
    "The final outcome column, col. 'y' is poorly named. The distinct values it holds are:"
   ]
  },
  {
   "cell_type": "code",
   "execution_count": 205,
   "metadata": {},
   "outputs": [
    {
     "data": {
      "text/plain": [
       "array(['no', 'yes'], dtype=object)"
      ]
     },
     "execution_count": 205,
     "metadata": {},
     "output_type": "execute_result"
    }
   ],
   "source": [
    "df_data['y'].unique()"
   ]
  },
  {
   "cell_type": "markdown",
   "metadata": {},
   "source": [
    "Converting this to a int64 attribute (called 'subscribed') with value = 1 for Yes and 0 for No"
   ]
  },
  {
   "cell_type": "code",
   "execution_count": 206,
   "metadata": {},
   "outputs": [
    {
     "name": "stdout",
     "output_type": "stream",
     "text": [
      "<class 'pandas.core.frame.DataFrame'>\n",
      "RangeIndex: 41188 entries, 0 to 41187\n",
      "Data columns (total 21 columns):\n",
      " #   Column          Non-Null Count  Dtype  \n",
      "---  ------          --------------  -----  \n",
      " 0   age             41188 non-null  int64  \n",
      " 1   job             41188 non-null  object \n",
      " 2   marital         41188 non-null  object \n",
      " 3   education       41188 non-null  object \n",
      " 4   default         41188 non-null  object \n",
      " 5   housing         41188 non-null  object \n",
      " 6   loan            41188 non-null  object \n",
      " 7   contact         41188 non-null  object \n",
      " 8   month           41188 non-null  object \n",
      " 9   day_of_week     41188 non-null  object \n",
      " 10  duration        41188 non-null  int64  \n",
      " 11  campaign        41188 non-null  int64  \n",
      " 12  pdays           41188 non-null  int64  \n",
      " 13  previous        41188 non-null  int64  \n",
      " 14  poutcome        41188 non-null  object \n",
      " 15  emp.var.rate    41188 non-null  float64\n",
      " 16  cons.price.idx  41188 non-null  float64\n",
      " 17  cons.conf.idx   41188 non-null  float64\n",
      " 18  euribor3m       41188 non-null  float64\n",
      " 19  nr.employed     41188 non-null  float64\n",
      " 20  subscribed      41188 non-null  int32  \n",
      "dtypes: float64(5), int32(1), int64(5), object(10)\n",
      "memory usage: 6.4+ MB\n"
     ]
    }
   ],
   "source": [
    "df_data['subscribed'] = np.where(df_data.y=='yes', 1, 0)\n",
    "df_data.drop('y', axis=1, inplace=True)\n",
    "df_data.info()"
   ]
  },
  {
   "cell_type": "markdown",
   "metadata": {},
   "source": [
    "### General Stats for Numerical Fields"
   ]
  },
  {
   "cell_type": "code",
   "execution_count": 207,
   "metadata": {},
   "outputs": [
    {
     "data": {
      "text/html": [
       "<div>\n",
       "<style scoped>\n",
       "    .dataframe tbody tr th:only-of-type {\n",
       "        vertical-align: middle;\n",
       "    }\n",
       "\n",
       "    .dataframe tbody tr th {\n",
       "        vertical-align: top;\n",
       "    }\n",
       "\n",
       "    .dataframe thead th {\n",
       "        text-align: right;\n",
       "    }\n",
       "</style>\n",
       "<table border=\"1\" class=\"dataframe\">\n",
       "  <thead>\n",
       "    <tr style=\"text-align: right;\">\n",
       "      <th></th>\n",
       "      <th>age</th>\n",
       "      <th>duration</th>\n",
       "      <th>campaign</th>\n",
       "      <th>pdays</th>\n",
       "      <th>previous</th>\n",
       "      <th>emp.var.rate</th>\n",
       "      <th>cons.price.idx</th>\n",
       "      <th>cons.conf.idx</th>\n",
       "      <th>euribor3m</th>\n",
       "      <th>nr.employed</th>\n",
       "      <th>subscribed</th>\n",
       "    </tr>\n",
       "  </thead>\n",
       "  <tbody>\n",
       "    <tr>\n",
       "      <th>count</th>\n",
       "      <td>41188.00000</td>\n",
       "      <td>41188.000000</td>\n",
       "      <td>41188.000000</td>\n",
       "      <td>41188.000000</td>\n",
       "      <td>41188.000000</td>\n",
       "      <td>41188.000000</td>\n",
       "      <td>41188.000000</td>\n",
       "      <td>41188.000000</td>\n",
       "      <td>41188.000000</td>\n",
       "      <td>41188.000000</td>\n",
       "      <td>41188.000000</td>\n",
       "    </tr>\n",
       "    <tr>\n",
       "      <th>mean</th>\n",
       "      <td>40.02406</td>\n",
       "      <td>258.285010</td>\n",
       "      <td>2.567593</td>\n",
       "      <td>962.475454</td>\n",
       "      <td>0.172963</td>\n",
       "      <td>0.081886</td>\n",
       "      <td>93.575664</td>\n",
       "      <td>-40.502600</td>\n",
       "      <td>3.621291</td>\n",
       "      <td>5167.035911</td>\n",
       "      <td>0.112654</td>\n",
       "    </tr>\n",
       "    <tr>\n",
       "      <th>std</th>\n",
       "      <td>10.42125</td>\n",
       "      <td>259.279249</td>\n",
       "      <td>2.770014</td>\n",
       "      <td>186.910907</td>\n",
       "      <td>0.494901</td>\n",
       "      <td>1.570960</td>\n",
       "      <td>0.578840</td>\n",
       "      <td>4.628198</td>\n",
       "      <td>1.734447</td>\n",
       "      <td>72.251528</td>\n",
       "      <td>0.316173</td>\n",
       "    </tr>\n",
       "    <tr>\n",
       "      <th>min</th>\n",
       "      <td>17.00000</td>\n",
       "      <td>0.000000</td>\n",
       "      <td>1.000000</td>\n",
       "      <td>0.000000</td>\n",
       "      <td>0.000000</td>\n",
       "      <td>-3.400000</td>\n",
       "      <td>92.201000</td>\n",
       "      <td>-50.800000</td>\n",
       "      <td>0.634000</td>\n",
       "      <td>4963.600000</td>\n",
       "      <td>0.000000</td>\n",
       "    </tr>\n",
       "    <tr>\n",
       "      <th>25%</th>\n",
       "      <td>32.00000</td>\n",
       "      <td>102.000000</td>\n",
       "      <td>1.000000</td>\n",
       "      <td>999.000000</td>\n",
       "      <td>0.000000</td>\n",
       "      <td>-1.800000</td>\n",
       "      <td>93.075000</td>\n",
       "      <td>-42.700000</td>\n",
       "      <td>1.344000</td>\n",
       "      <td>5099.100000</td>\n",
       "      <td>0.000000</td>\n",
       "    </tr>\n",
       "    <tr>\n",
       "      <th>50%</th>\n",
       "      <td>38.00000</td>\n",
       "      <td>180.000000</td>\n",
       "      <td>2.000000</td>\n",
       "      <td>999.000000</td>\n",
       "      <td>0.000000</td>\n",
       "      <td>1.100000</td>\n",
       "      <td>93.749000</td>\n",
       "      <td>-41.800000</td>\n",
       "      <td>4.857000</td>\n",
       "      <td>5191.000000</td>\n",
       "      <td>0.000000</td>\n",
       "    </tr>\n",
       "    <tr>\n",
       "      <th>75%</th>\n",
       "      <td>47.00000</td>\n",
       "      <td>319.000000</td>\n",
       "      <td>3.000000</td>\n",
       "      <td>999.000000</td>\n",
       "      <td>0.000000</td>\n",
       "      <td>1.400000</td>\n",
       "      <td>93.994000</td>\n",
       "      <td>-36.400000</td>\n",
       "      <td>4.961000</td>\n",
       "      <td>5228.100000</td>\n",
       "      <td>0.000000</td>\n",
       "    </tr>\n",
       "    <tr>\n",
       "      <th>max</th>\n",
       "      <td>98.00000</td>\n",
       "      <td>4918.000000</td>\n",
       "      <td>56.000000</td>\n",
       "      <td>999.000000</td>\n",
       "      <td>7.000000</td>\n",
       "      <td>1.400000</td>\n",
       "      <td>94.767000</td>\n",
       "      <td>-26.900000</td>\n",
       "      <td>5.045000</td>\n",
       "      <td>5228.100000</td>\n",
       "      <td>1.000000</td>\n",
       "    </tr>\n",
       "  </tbody>\n",
       "</table>\n",
       "</div>"
      ],
      "text/plain": [
       "               age      duration      campaign         pdays      previous  \\\n",
       "count  41188.00000  41188.000000  41188.000000  41188.000000  41188.000000   \n",
       "mean      40.02406    258.285010      2.567593    962.475454      0.172963   \n",
       "std       10.42125    259.279249      2.770014    186.910907      0.494901   \n",
       "min       17.00000      0.000000      1.000000      0.000000      0.000000   \n",
       "25%       32.00000    102.000000      1.000000    999.000000      0.000000   \n",
       "50%       38.00000    180.000000      2.000000    999.000000      0.000000   \n",
       "75%       47.00000    319.000000      3.000000    999.000000      0.000000   \n",
       "max       98.00000   4918.000000     56.000000    999.000000      7.000000   \n",
       "\n",
       "       emp.var.rate  cons.price.idx  cons.conf.idx     euribor3m  \\\n",
       "count  41188.000000    41188.000000   41188.000000  41188.000000   \n",
       "mean       0.081886       93.575664     -40.502600      3.621291   \n",
       "std        1.570960        0.578840       4.628198      1.734447   \n",
       "min       -3.400000       92.201000     -50.800000      0.634000   \n",
       "25%       -1.800000       93.075000     -42.700000      1.344000   \n",
       "50%        1.100000       93.749000     -41.800000      4.857000   \n",
       "75%        1.400000       93.994000     -36.400000      4.961000   \n",
       "max        1.400000       94.767000     -26.900000      5.045000   \n",
       "\n",
       "        nr.employed    subscribed  \n",
       "count  41188.000000  41188.000000  \n",
       "mean    5167.035911      0.112654  \n",
       "std       72.251528      0.316173  \n",
       "min     4963.600000      0.000000  \n",
       "25%     5099.100000      0.000000  \n",
       "50%     5191.000000      0.000000  \n",
       "75%     5228.100000      0.000000  \n",
       "max     5228.100000      1.000000  "
      ]
     },
     "execution_count": 207,
     "metadata": {},
     "output_type": "execute_result"
    }
   ],
   "source": [
    "df_data.describe()"
   ]
  },
  {
   "cell_type": "markdown",
   "metadata": {},
   "source": [
    "* From above we observe a few things:\n",
    "    - The **effectiveness of telemarketing is 11.26%** (as that is the mean of 'subscribed' attribute)\n",
    "    - Surprisingly, none of the numerical data columns have null values. Need to deep dive to understand if the nulls are defaulted in the underlying data\n",
    "    - The age range that telemarketers covered was 17 Yrs - 98 Years\n",
    "    "
   ]
  },
  {
   "cell_type": "code",
   "execution_count": 208,
   "metadata": {},
   "outputs": [
    {
     "data": {
      "text/html": [
       "<div>\n",
       "<style scoped>\n",
       "    .dataframe tbody tr th:only-of-type {\n",
       "        vertical-align: middle;\n",
       "    }\n",
       "\n",
       "    .dataframe tbody tr th {\n",
       "        vertical-align: top;\n",
       "    }\n",
       "\n",
       "    .dataframe thead th {\n",
       "        text-align: right;\n",
       "    }\n",
       "</style>\n",
       "<table border=\"1\" class=\"dataframe\">\n",
       "  <thead>\n",
       "    <tr style=\"text-align: right;\">\n",
       "      <th></th>\n",
       "      <th>age</th>\n",
       "      <th>job</th>\n",
       "      <th>marital</th>\n",
       "      <th>education</th>\n",
       "      <th>default</th>\n",
       "      <th>housing</th>\n",
       "      <th>loan</th>\n",
       "      <th>contact</th>\n",
       "      <th>month</th>\n",
       "      <th>day_of_week</th>\n",
       "      <th>duration</th>\n",
       "      <th>campaign</th>\n",
       "      <th>pdays</th>\n",
       "      <th>previous</th>\n",
       "      <th>poutcome</th>\n",
       "      <th>emp.var.rate</th>\n",
       "      <th>cons.price.idx</th>\n",
       "      <th>cons.conf.idx</th>\n",
       "      <th>euribor3m</th>\n",
       "      <th>nr.employed</th>\n",
       "      <th>subscribed</th>\n",
       "    </tr>\n",
       "  </thead>\n",
       "  <tbody>\n",
       "    <tr>\n",
       "      <th>0</th>\n",
       "      <td>56</td>\n",
       "      <td>housemaid</td>\n",
       "      <td>married</td>\n",
       "      <td>basic.4y</td>\n",
       "      <td>no</td>\n",
       "      <td>no</td>\n",
       "      <td>no</td>\n",
       "      <td>telephone</td>\n",
       "      <td>may</td>\n",
       "      <td>mon</td>\n",
       "      <td>261</td>\n",
       "      <td>1</td>\n",
       "      <td>999</td>\n",
       "      <td>0</td>\n",
       "      <td>nonexistent</td>\n",
       "      <td>1.1</td>\n",
       "      <td>93.994</td>\n",
       "      <td>-36.4</td>\n",
       "      <td>4.857</td>\n",
       "      <td>5191.0</td>\n",
       "      <td>0</td>\n",
       "    </tr>\n",
       "    <tr>\n",
       "      <th>1</th>\n",
       "      <td>57</td>\n",
       "      <td>services</td>\n",
       "      <td>married</td>\n",
       "      <td>high.school</td>\n",
       "      <td>unknown</td>\n",
       "      <td>no</td>\n",
       "      <td>no</td>\n",
       "      <td>telephone</td>\n",
       "      <td>may</td>\n",
       "      <td>mon</td>\n",
       "      <td>149</td>\n",
       "      <td>1</td>\n",
       "      <td>999</td>\n",
       "      <td>0</td>\n",
       "      <td>nonexistent</td>\n",
       "      <td>1.1</td>\n",
       "      <td>93.994</td>\n",
       "      <td>-36.4</td>\n",
       "      <td>4.857</td>\n",
       "      <td>5191.0</td>\n",
       "      <td>0</td>\n",
       "    </tr>\n",
       "    <tr>\n",
       "      <th>2</th>\n",
       "      <td>37</td>\n",
       "      <td>services</td>\n",
       "      <td>married</td>\n",
       "      <td>high.school</td>\n",
       "      <td>no</td>\n",
       "      <td>yes</td>\n",
       "      <td>no</td>\n",
       "      <td>telephone</td>\n",
       "      <td>may</td>\n",
       "      <td>mon</td>\n",
       "      <td>226</td>\n",
       "      <td>1</td>\n",
       "      <td>999</td>\n",
       "      <td>0</td>\n",
       "      <td>nonexistent</td>\n",
       "      <td>1.1</td>\n",
       "      <td>93.994</td>\n",
       "      <td>-36.4</td>\n",
       "      <td>4.857</td>\n",
       "      <td>5191.0</td>\n",
       "      <td>0</td>\n",
       "    </tr>\n",
       "    <tr>\n",
       "      <th>3</th>\n",
       "      <td>40</td>\n",
       "      <td>admin.</td>\n",
       "      <td>married</td>\n",
       "      <td>basic.6y</td>\n",
       "      <td>no</td>\n",
       "      <td>no</td>\n",
       "      <td>no</td>\n",
       "      <td>telephone</td>\n",
       "      <td>may</td>\n",
       "      <td>mon</td>\n",
       "      <td>151</td>\n",
       "      <td>1</td>\n",
       "      <td>999</td>\n",
       "      <td>0</td>\n",
       "      <td>nonexistent</td>\n",
       "      <td>1.1</td>\n",
       "      <td>93.994</td>\n",
       "      <td>-36.4</td>\n",
       "      <td>4.857</td>\n",
       "      <td>5191.0</td>\n",
       "      <td>0</td>\n",
       "    </tr>\n",
       "    <tr>\n",
       "      <th>4</th>\n",
       "      <td>56</td>\n",
       "      <td>services</td>\n",
       "      <td>married</td>\n",
       "      <td>high.school</td>\n",
       "      <td>no</td>\n",
       "      <td>no</td>\n",
       "      <td>yes</td>\n",
       "      <td>telephone</td>\n",
       "      <td>may</td>\n",
       "      <td>mon</td>\n",
       "      <td>307</td>\n",
       "      <td>1</td>\n",
       "      <td>999</td>\n",
       "      <td>0</td>\n",
       "      <td>nonexistent</td>\n",
       "      <td>1.1</td>\n",
       "      <td>93.994</td>\n",
       "      <td>-36.4</td>\n",
       "      <td>4.857</td>\n",
       "      <td>5191.0</td>\n",
       "      <td>0</td>\n",
       "    </tr>\n",
       "    <tr>\n",
       "      <th>...</th>\n",
       "      <td>...</td>\n",
       "      <td>...</td>\n",
       "      <td>...</td>\n",
       "      <td>...</td>\n",
       "      <td>...</td>\n",
       "      <td>...</td>\n",
       "      <td>...</td>\n",
       "      <td>...</td>\n",
       "      <td>...</td>\n",
       "      <td>...</td>\n",
       "      <td>...</td>\n",
       "      <td>...</td>\n",
       "      <td>...</td>\n",
       "      <td>...</td>\n",
       "      <td>...</td>\n",
       "      <td>...</td>\n",
       "      <td>...</td>\n",
       "      <td>...</td>\n",
       "      <td>...</td>\n",
       "      <td>...</td>\n",
       "      <td>...</td>\n",
       "    </tr>\n",
       "    <tr>\n",
       "      <th>41183</th>\n",
       "      <td>73</td>\n",
       "      <td>retired</td>\n",
       "      <td>married</td>\n",
       "      <td>professional.course</td>\n",
       "      <td>no</td>\n",
       "      <td>yes</td>\n",
       "      <td>no</td>\n",
       "      <td>cellular</td>\n",
       "      <td>nov</td>\n",
       "      <td>fri</td>\n",
       "      <td>334</td>\n",
       "      <td>1</td>\n",
       "      <td>999</td>\n",
       "      <td>0</td>\n",
       "      <td>nonexistent</td>\n",
       "      <td>-1.1</td>\n",
       "      <td>94.767</td>\n",
       "      <td>-50.8</td>\n",
       "      <td>1.028</td>\n",
       "      <td>4963.6</td>\n",
       "      <td>1</td>\n",
       "    </tr>\n",
       "    <tr>\n",
       "      <th>41184</th>\n",
       "      <td>46</td>\n",
       "      <td>blue-collar</td>\n",
       "      <td>married</td>\n",
       "      <td>professional.course</td>\n",
       "      <td>no</td>\n",
       "      <td>no</td>\n",
       "      <td>no</td>\n",
       "      <td>cellular</td>\n",
       "      <td>nov</td>\n",
       "      <td>fri</td>\n",
       "      <td>383</td>\n",
       "      <td>1</td>\n",
       "      <td>999</td>\n",
       "      <td>0</td>\n",
       "      <td>nonexistent</td>\n",
       "      <td>-1.1</td>\n",
       "      <td>94.767</td>\n",
       "      <td>-50.8</td>\n",
       "      <td>1.028</td>\n",
       "      <td>4963.6</td>\n",
       "      <td>0</td>\n",
       "    </tr>\n",
       "    <tr>\n",
       "      <th>41185</th>\n",
       "      <td>56</td>\n",
       "      <td>retired</td>\n",
       "      <td>married</td>\n",
       "      <td>university.degree</td>\n",
       "      <td>no</td>\n",
       "      <td>yes</td>\n",
       "      <td>no</td>\n",
       "      <td>cellular</td>\n",
       "      <td>nov</td>\n",
       "      <td>fri</td>\n",
       "      <td>189</td>\n",
       "      <td>2</td>\n",
       "      <td>999</td>\n",
       "      <td>0</td>\n",
       "      <td>nonexistent</td>\n",
       "      <td>-1.1</td>\n",
       "      <td>94.767</td>\n",
       "      <td>-50.8</td>\n",
       "      <td>1.028</td>\n",
       "      <td>4963.6</td>\n",
       "      <td>0</td>\n",
       "    </tr>\n",
       "    <tr>\n",
       "      <th>41186</th>\n",
       "      <td>44</td>\n",
       "      <td>technician</td>\n",
       "      <td>married</td>\n",
       "      <td>professional.course</td>\n",
       "      <td>no</td>\n",
       "      <td>no</td>\n",
       "      <td>no</td>\n",
       "      <td>cellular</td>\n",
       "      <td>nov</td>\n",
       "      <td>fri</td>\n",
       "      <td>442</td>\n",
       "      <td>1</td>\n",
       "      <td>999</td>\n",
       "      <td>0</td>\n",
       "      <td>nonexistent</td>\n",
       "      <td>-1.1</td>\n",
       "      <td>94.767</td>\n",
       "      <td>-50.8</td>\n",
       "      <td>1.028</td>\n",
       "      <td>4963.6</td>\n",
       "      <td>1</td>\n",
       "    </tr>\n",
       "    <tr>\n",
       "      <th>41187</th>\n",
       "      <td>74</td>\n",
       "      <td>retired</td>\n",
       "      <td>married</td>\n",
       "      <td>professional.course</td>\n",
       "      <td>no</td>\n",
       "      <td>yes</td>\n",
       "      <td>no</td>\n",
       "      <td>cellular</td>\n",
       "      <td>nov</td>\n",
       "      <td>fri</td>\n",
       "      <td>239</td>\n",
       "      <td>3</td>\n",
       "      <td>999</td>\n",
       "      <td>1</td>\n",
       "      <td>failure</td>\n",
       "      <td>-1.1</td>\n",
       "      <td>94.767</td>\n",
       "      <td>-50.8</td>\n",
       "      <td>1.028</td>\n",
       "      <td>4963.6</td>\n",
       "      <td>0</td>\n",
       "    </tr>\n",
       "  </tbody>\n",
       "</table>\n",
       "<p>41188 rows × 21 columns</p>\n",
       "</div>"
      ],
      "text/plain": [
       "       age          job  marital            education  default housing loan  \\\n",
       "0       56    housemaid  married             basic.4y       no      no   no   \n",
       "1       57     services  married          high.school  unknown      no   no   \n",
       "2       37     services  married          high.school       no     yes   no   \n",
       "3       40       admin.  married             basic.6y       no      no   no   \n",
       "4       56     services  married          high.school       no      no  yes   \n",
       "...    ...          ...      ...                  ...      ...     ...  ...   \n",
       "41183   73      retired  married  professional.course       no     yes   no   \n",
       "41184   46  blue-collar  married  professional.course       no      no   no   \n",
       "41185   56      retired  married    university.degree       no     yes   no   \n",
       "41186   44   technician  married  professional.course       no      no   no   \n",
       "41187   74      retired  married  professional.course       no     yes   no   \n",
       "\n",
       "         contact month day_of_week  duration  campaign  pdays  previous  \\\n",
       "0      telephone   may         mon       261         1    999         0   \n",
       "1      telephone   may         mon       149         1    999         0   \n",
       "2      telephone   may         mon       226         1    999         0   \n",
       "3      telephone   may         mon       151         1    999         0   \n",
       "4      telephone   may         mon       307         1    999         0   \n",
       "...          ...   ...         ...       ...       ...    ...       ...   \n",
       "41183   cellular   nov         fri       334         1    999         0   \n",
       "41184   cellular   nov         fri       383         1    999         0   \n",
       "41185   cellular   nov         fri       189         2    999         0   \n",
       "41186   cellular   nov         fri       442         1    999         0   \n",
       "41187   cellular   nov         fri       239         3    999         1   \n",
       "\n",
       "          poutcome  emp.var.rate  cons.price.idx  cons.conf.idx  euribor3m  \\\n",
       "0      nonexistent           1.1          93.994          -36.4      4.857   \n",
       "1      nonexistent           1.1          93.994          -36.4      4.857   \n",
       "2      nonexistent           1.1          93.994          -36.4      4.857   \n",
       "3      nonexistent           1.1          93.994          -36.4      4.857   \n",
       "4      nonexistent           1.1          93.994          -36.4      4.857   \n",
       "...            ...           ...             ...            ...        ...   \n",
       "41183  nonexistent          -1.1          94.767          -50.8      1.028   \n",
       "41184  nonexistent          -1.1          94.767          -50.8      1.028   \n",
       "41185  nonexistent          -1.1          94.767          -50.8      1.028   \n",
       "41186  nonexistent          -1.1          94.767          -50.8      1.028   \n",
       "41187      failure          -1.1          94.767          -50.8      1.028   \n",
       "\n",
       "       nr.employed  subscribed  \n",
       "0           5191.0           0  \n",
       "1           5191.0           0  \n",
       "2           5191.0           0  \n",
       "3           5191.0           0  \n",
       "4           5191.0           0  \n",
       "...            ...         ...  \n",
       "41183       4963.6           1  \n",
       "41184       4963.6           0  \n",
       "41185       4963.6           0  \n",
       "41186       4963.6           1  \n",
       "41187       4963.6           0  \n",
       "\n",
       "[41188 rows x 21 columns]"
      ]
     },
     "execution_count": 208,
     "metadata": {},
     "output_type": "execute_result"
    }
   ],
   "source": [
    "pd.set_option('display.max_columns', None)\n",
    "df_data"
   ]
  },
  {
   "cell_type": "code",
   "execution_count": 209,
   "metadata": {},
   "outputs": [
    {
     "data": {
      "text/plain": [
       "0    36548\n",
       "1     4640\n",
       "Name: subscribed, dtype: int64"
      ]
     },
     "execution_count": 209,
     "metadata": {},
     "output_type": "execute_result"
    }
   ],
   "source": [
    "df_data['subscribed'].value_counts()"
   ]
  },
  {
   "cell_type": "markdown",
   "metadata": {},
   "source": [
    "## Baseline Prediction using DummyClassifier\n",
    "Baseline prediction is the simplest possible prediction and a dummy classifier is used to make predictions using simple rules. This dummy classifier does not generate any insight about the data. It is used only as a simple baseline for the other classifiers i.e. any other classifier is expected to perform better on the given dataset. <br>\n",
    "<br>\n",
    "The strategy \"stratified\" which generates predictions by respecting the training set’s class distribution is used."
   ]
  },
  {
   "cell_type": "code",
   "execution_count": 210,
   "metadata": {},
   "outputs": [
    {
     "name": "stdout",
     "output_type": "stream",
     "text": [
      "<class 'pandas.core.frame.DataFrame'>\n",
      "RangeIndex: 41188 entries, 0 to 41187\n",
      "Data columns (total 20 columns):\n",
      " #   Column          Non-Null Count  Dtype  \n",
      "---  ------          --------------  -----  \n",
      " 0   age             41188 non-null  int64  \n",
      " 1   job             41188 non-null  object \n",
      " 2   marital         41188 non-null  object \n",
      " 3   education       41188 non-null  object \n",
      " 4   default         41188 non-null  object \n",
      " 5   housing         41188 non-null  object \n",
      " 6   loan            41188 non-null  object \n",
      " 7   contact         41188 non-null  object \n",
      " 8   month           41188 non-null  object \n",
      " 9   day_of_week     41188 non-null  object \n",
      " 10  duration        41188 non-null  int64  \n",
      " 11  campaign        41188 non-null  int64  \n",
      " 12  pdays           41188 non-null  int64  \n",
      " 13  previous        41188 non-null  int64  \n",
      " 14  poutcome        41188 non-null  object \n",
      " 15  emp.var.rate    41188 non-null  float64\n",
      " 16  cons.price.idx  41188 non-null  float64\n",
      " 17  cons.conf.idx   41188 non-null  float64\n",
      " 18  euribor3m       41188 non-null  float64\n",
      " 19  nr.employed     41188 non-null  float64\n",
      "dtypes: float64(5), int64(5), object(10)\n",
      "memory usage: 6.3+ MB\n"
     ]
    }
   ],
   "source": [
    "df_data_bl=df_data.copy()\n",
    "from sklearn.model_selection import train_test_split\n",
    "X = df_data_bl.drop(['subscribed'], axis=1)\n",
    "y = df_data_bl['subscribed']\n",
    "\n",
    "X.info()\n",
    "\n",
    "X_train, X_test, y_train, y_test = train_test_split(X, y, stratify=df_data_bl['subscribed'], test_size=0.2)\n",
    "#X_train, X_test, y_train, y_test = train_test_split(X, y, test_size=0.2)"
   ]
  },
  {
   "cell_type": "code",
   "execution_count": 211,
   "metadata": {},
   "outputs": [
    {
     "name": "stdout",
     "output_type": "stream",
     "text": [
      "Baseline Accuracy Score : 0.7974022821073076\n"
     ]
    }
   ],
   "source": [
    "from sklearn.dummy import DummyClassifier\n",
    "from sklearn.metrics import accuracy_score\n",
    "dummy_clf = DummyClassifier(strategy=\"stratified\")\n",
    "dummy_clf.fit(X_train, y_train)\n",
    "DummyClassifier(strategy=\"stratified\")\n",
    "dummy_clf.predict(X_test)\n",
    "print(f'Baseline Accuracy Score : {dummy_clf.score(y_test, y_test)}')"
   ]
  },
  {
   "cell_type": "markdown",
   "metadata": {},
   "source": [
    "There is a sporadic presence of 'unknown' value which indicates that nulls have been substituted by 'unknown' in the underlying data.\n",
    "\n",
    "Getting a sense of the missing data below -  <a name=\"missing\"></a>"
   ]
  },
  {
   "cell_type": "code",
   "execution_count": 85,
   "metadata": {},
   "outputs": [
    {
     "data": {
      "text/plain": [
       "age                  0\n",
       "job                330\n",
       "marital             80\n",
       "education         1731\n",
       "default           8597\n",
       "housing            990\n",
       "loan               990\n",
       "contact              0\n",
       "month                0\n",
       "day_of_week          0\n",
       "duration             0\n",
       "campaign             0\n",
       "pdays                0\n",
       "previous             0\n",
       "poutcome             0\n",
       "emp.var.rate         0\n",
       "cons.price.idx       0\n",
       "cons.conf.idx        0\n",
       "euribor3m            0\n",
       "nr.employed          0\n",
       "subscribed           0\n",
       "dtype: int64"
      ]
     },
     "execution_count": 85,
     "metadata": {},
     "output_type": "execute_result"
    }
   ],
   "source": [
    "df_data_new = df_data.replace('unknown',np.nan)\n",
    "df_data_new.isnull().sum()"
   ]
  },
  {
   "cell_type": "code",
   "execution_count": 86,
   "metadata": {},
   "outputs": [
    {
     "data": {
      "text/html": [
       "<div>\n",
       "<style scoped>\n",
       "    .dataframe tbody tr th:only-of-type {\n",
       "        vertical-align: middle;\n",
       "    }\n",
       "\n",
       "    .dataframe tbody tr th {\n",
       "        vertical-align: top;\n",
       "    }\n",
       "\n",
       "    .dataframe thead th {\n",
       "        text-align: right;\n",
       "    }\n",
       "</style>\n",
       "<table border=\"1\" class=\"dataframe\">\n",
       "  <thead>\n",
       "    <tr style=\"text-align: right;\">\n",
       "      <th></th>\n",
       "      <th>Total</th>\n",
       "      <th>%</th>\n",
       "    </tr>\n",
       "  </thead>\n",
       "  <tbody>\n",
       "    <tr>\n",
       "      <th>default</th>\n",
       "      <td>8597</td>\n",
       "      <td>20.872584</td>\n",
       "    </tr>\n",
       "    <tr>\n",
       "      <th>education</th>\n",
       "      <td>1731</td>\n",
       "      <td>4.202680</td>\n",
       "    </tr>\n",
       "    <tr>\n",
       "      <th>housing</th>\n",
       "      <td>990</td>\n",
       "      <td>2.403613</td>\n",
       "    </tr>\n",
       "    <tr>\n",
       "      <th>loan</th>\n",
       "      <td>990</td>\n",
       "      <td>2.403613</td>\n",
       "    </tr>\n",
       "    <tr>\n",
       "      <th>job</th>\n",
       "      <td>330</td>\n",
       "      <td>0.801204</td>\n",
       "    </tr>\n",
       "    <tr>\n",
       "      <th>marital</th>\n",
       "      <td>80</td>\n",
       "      <td>0.194231</td>\n",
       "    </tr>\n",
       "  </tbody>\n",
       "</table>\n",
       "</div>"
      ],
      "text/plain": [
       "           Total          %\n",
       "default     8597  20.872584\n",
       "education   1731   4.202680\n",
       "housing      990   2.403613\n",
       "loan         990   2.403613\n",
       "job          330   0.801204\n",
       "marital       80   0.194231"
      ]
     },
     "execution_count": 86,
     "metadata": {},
     "output_type": "execute_result"
    }
   ],
   "source": [
    "total = df_data_new.isnull().sum().sort_values(ascending=False)\n",
    "percent_1 = df_data_new.isnull().sum()/df_data_new.isnull().count()*100\n",
    "percent_2 = percent_1.sort_values(ascending=False)\n",
    "missing_data = pd.concat([total, percent_2], axis = 1, keys = ['Total', '%'])\n",
    "missing_data.head(6)"
   ]
  },
  {
   "cell_type": "markdown",
   "metadata": {},
   "source": [
    "### Null Values\n",
    "* 6 of the 21 features have null values\n",
    "* For all of the features with null values, less than 21% of the total values are null, so we will still consider all features for the analysis"
   ]
  },
  {
   "cell_type": "markdown",
   "metadata": {},
   "source": [
    "Since education, housing, loan, job and marital variables have less than 5% missing values, the imputation method will be used which will replace the missing values with the most frequent values in each column. "
   ]
  },
  {
   "cell_type": "code",
   "execution_count": 87,
   "metadata": {},
   "outputs": [],
   "source": [
    "df1_data=df_data_new.copy()"
   ]
  },
  {
   "cell_type": "markdown",
   "metadata": {},
   "source": [
    "### Better understanding the outcome variable\n",
    "Checking distribution of class variable to see if it is a balanced data set or not"
   ]
  },
  {
   "cell_type": "code",
   "execution_count": 88,
   "metadata": {},
   "outputs": [
    {
     "data": {
      "image/png": "[encoded data removed]",
      "text/plain": [
       "<Figure size 504x360 with 1 Axes>"
      ]
     },
     "metadata": {
      "needs_background": "light"
     },
     "output_type": "display_data"
    }
   ],
   "source": [
    "# defining a function to display percentage on the plot\n",
    "def without_hue(plot, feature):\n",
    "    total = len(feature)\n",
    "    for p in ax.patches:\n",
    "        percentage = '{:.2f}%'.format(100 * p.get_height()/total)\n",
    "        x = p.get_x() + p.get_width() / 2 - 0.05\n",
    "        y = p.get_y() + p.get_height()\n",
    "        ax.annotate(percentage, (x, y), size = 12)\n",
    "    plt.show()\n",
    "\n",
    "plt.figure(figsize=(7,5))\n",
    "plt.title(\"Fig:1 - % Subscribership\")\n",
    "ax=sns.countplot(x='subscribed',data=df_data_new)\n",
    "plt.xticks(size=12)\n",
    "plt.xlabel('subscribed',size=12)\n",
    "plt.yticks(size=12)\n",
    "plt.ylabel('count',size=12)\n",
    "without_hue(ax,df_data_new.subscribed)\n"
   ]
  },
  {
   "cell_type": "markdown",
   "metadata": {},
   "source": [
    "This data set is an imbalanced <a name=\"imbalanced\"></a> data set which has 88.73% of class varaible 0 and 11.27% of 1.  \n",
    "Please note:\n",
    "- 0 indicates the term deposit is not subscribed \n",
    "- 1 means the term deposit is subscribed."
   ]
  },
  {
   "cell_type": "markdown",
   "metadata": {},
   "source": [
    "### Understanding Correlation <a name=\"corelated\"></a>"
   ]
  },
  {
   "cell_type": "code",
   "execution_count": 89,
   "metadata": {},
   "outputs": [
    {
     "data": {
      "text/html": [
       "<style  type=\"text/css\" >\n",
       "#T_85853881_e8df_11eb_b211_f8ac655a2ed5row0_col0,#T_85853881_e8df_11eb_b211_f8ac655a2ed5row1_col1,#T_85853881_e8df_11eb_b211_f8ac655a2ed5row2_col2,#T_85853881_e8df_11eb_b211_f8ac655a2ed5row3_col3,#T_85853881_e8df_11eb_b211_f8ac655a2ed5row4_col4,#T_85853881_e8df_11eb_b211_f8ac655a2ed5row5_col5,#T_85853881_e8df_11eb_b211_f8ac655a2ed5row6_col6,#T_85853881_e8df_11eb_b211_f8ac655a2ed5row7_col7,#T_85853881_e8df_11eb_b211_f8ac655a2ed5row8_col8,#T_85853881_e8df_11eb_b211_f8ac655a2ed5row9_col9,#T_85853881_e8df_11eb_b211_f8ac655a2ed5row10_col10{\n",
       "            background-color:  #b40426;\n",
       "            color:  #f1f1f1;\n",
       "        }#T_85853881_e8df_11eb_b211_f8ac655a2ed5row0_col1,#T_85853881_e8df_11eb_b211_f8ac655a2ed5row10_col0{\n",
       "            background-color:  #4e68d8;\n",
       "            color:  #000000;\n",
       "        }#T_85853881_e8df_11eb_b211_f8ac655a2ed5row0_col2,#T_85853881_e8df_11eb_b211_f8ac655a2ed5row1_col7{\n",
       "            background-color:  #516ddb;\n",
       "            color:  #000000;\n",
       "        }#T_85853881_e8df_11eb_b211_f8ac655a2ed5row0_col3{\n",
       "            background-color:  #afcafc;\n",
       "            color:  #000000;\n",
       "        }#T_85853881_e8df_11eb_b211_f8ac655a2ed5row0_col4,#T_85853881_e8df_11eb_b211_f8ac655a2ed5row1_col4{\n",
       "            background-color:  #bbd1f8;\n",
       "            color:  #000000;\n",
       "        }#T_85853881_e8df_11eb_b211_f8ac655a2ed5row0_col5{\n",
       "            background-color:  #9dbdff;\n",
       "            color:  #000000;\n",
       "        }#T_85853881_e8df_11eb_b211_f8ac655a2ed5row0_col6{\n",
       "            background-color:  #7093f3;\n",
       "            color:  #000000;\n",
       "        }#T_85853881_e8df_11eb_b211_f8ac655a2ed5row0_col7{\n",
       "            background-color:  #7b9ff9;\n",
       "            color:  #000000;\n",
       "        }#T_85853881_e8df_11eb_b211_f8ac655a2ed5row0_col8,#T_85853881_e8df_11eb_b211_f8ac655a2ed5row2_col4{\n",
       "            background-color:  #a5c3fe;\n",
       "            color:  #000000;\n",
       "        }#T_85853881_e8df_11eb_b211_f8ac655a2ed5row0_col9{\n",
       "            background-color:  #a6c4fe;\n",
       "            color:  #000000;\n",
       "        }#T_85853881_e8df_11eb_b211_f8ac655a2ed5row0_col10{\n",
       "            background-color:  #98b9ff;\n",
       "            color:  #000000;\n",
       "        }#T_85853881_e8df_11eb_b211_f8ac655a2ed5row1_col0,#T_85853881_e8df_11eb_b211_f8ac655a2ed5row5_col0,#T_85853881_e8df_11eb_b211_f8ac655a2ed5row6_col0,#T_85853881_e8df_11eb_b211_f8ac655a2ed5row8_col10{\n",
       "            background-color:  #445acc;\n",
       "            color:  #f1f1f1;\n",
       "        }#T_85853881_e8df_11eb_b211_f8ac655a2ed5row1_col2{\n",
       "            background-color:  #3c4ec2;\n",
       "            color:  #f1f1f1;\n",
       "        }#T_85853881_e8df_11eb_b211_f8ac655a2ed5row1_col3{\n",
       "            background-color:  #adc9fd;\n",
       "            color:  #000000;\n",
       "        }#T_85853881_e8df_11eb_b211_f8ac655a2ed5row1_col5,#T_85853881_e8df_11eb_b211_f8ac655a2ed5row2_col6{\n",
       "            background-color:  #96b7ff;\n",
       "            color:  #000000;\n",
       "        }#T_85853881_e8df_11eb_b211_f8ac655a2ed5row1_col6{\n",
       "            background-color:  #7295f4;\n",
       "            color:  #000000;\n",
       "        }#T_85853881_e8df_11eb_b211_f8ac655a2ed5row1_col8{\n",
       "            background-color:  #9bbcff;\n",
       "            color:  #000000;\n",
       "        }#T_85853881_e8df_11eb_b211_f8ac655a2ed5row1_col9,#T_85853881_e8df_11eb_b211_f8ac655a2ed5row7_col10{\n",
       "            background-color:  #9fbfff;\n",
       "            color:  #000000;\n",
       "        }#T_85853881_e8df_11eb_b211_f8ac655a2ed5row1_col10{\n",
       "            background-color:  #ebd3c6;\n",
       "            color:  #000000;\n",
       "        }#T_85853881_e8df_11eb_b211_f8ac655a2ed5row2_col0,#T_85853881_e8df_11eb_b211_f8ac655a2ed5row4_col7,#T_85853881_e8df_11eb_b211_f8ac655a2ed5row8_col1{\n",
       "            background-color:  #455cce;\n",
       "            color:  #f1f1f1;\n",
       "        }#T_85853881_e8df_11eb_b211_f8ac655a2ed5row2_col1,#T_85853881_e8df_11eb_b211_f8ac655a2ed5row3_col0,#T_85853881_e8df_11eb_b211_f8ac655a2ed5row3_col4,#T_85853881_e8df_11eb_b211_f8ac655a2ed5row3_col7,#T_85853881_e8df_11eb_b211_f8ac655a2ed5row4_col2,#T_85853881_e8df_11eb_b211_f8ac655a2ed5row4_col3,#T_85853881_e8df_11eb_b211_f8ac655a2ed5row4_col5,#T_85853881_e8df_11eb_b211_f8ac655a2ed5row4_col6,#T_85853881_e8df_11eb_b211_f8ac655a2ed5row4_col8,#T_85853881_e8df_11eb_b211_f8ac655a2ed5row4_col9,#T_85853881_e8df_11eb_b211_f8ac655a2ed5row9_col10{\n",
       "            background-color:  #3b4cc0;\n",
       "            color:  #f1f1f1;\n",
       "        }#T_85853881_e8df_11eb_b211_f8ac655a2ed5row2_col3,#T_85853881_e8df_11eb_b211_f8ac655a2ed5row2_col8{\n",
       "            background-color:  #c1d4f4;\n",
       "            color:  #000000;\n",
       "        }#T_85853881_e8df_11eb_b211_f8ac655a2ed5row2_col5,#T_85853881_e8df_11eb_b211_f8ac655a2ed5row7_col9{\n",
       "            background-color:  #c0d4f5;\n",
       "            color:  #000000;\n",
       "        }#T_85853881_e8df_11eb_b211_f8ac655a2ed5row2_col7,#T_85853881_e8df_11eb_b211_f8ac655a2ed5row6_col1{\n",
       "            background-color:  #506bda;\n",
       "            color:  #000000;\n",
       "        }#T_85853881_e8df_11eb_b211_f8ac655a2ed5row2_col9,#T_85853881_e8df_11eb_b211_f8ac655a2ed5row4_col10{\n",
       "            background-color:  #cad8ef;\n",
       "            color:  #000000;\n",
       "        }#T_85853881_e8df_11eb_b211_f8ac655a2ed5row2_col10,#T_85853881_e8df_11eb_b211_f8ac655a2ed5row5_col2{\n",
       "            background-color:  #80a3fa;\n",
       "            color:  #000000;\n",
       "        }#T_85853881_e8df_11eb_b211_f8ac655a2ed5row3_col1,#T_85853881_e8df_11eb_b211_f8ac655a2ed5row3_col10{\n",
       "            background-color:  #4055c8;\n",
       "            color:  #f1f1f1;\n",
       "        }#T_85853881_e8df_11eb_b211_f8ac655a2ed5row3_col2{\n",
       "            background-color:  #6180e9;\n",
       "            color:  #000000;\n",
       "        }#T_85853881_e8df_11eb_b211_f8ac655a2ed5row3_col5{\n",
       "            background-color:  #d9dce1;\n",
       "            color:  #000000;\n",
       "        }#T_85853881_e8df_11eb_b211_f8ac655a2ed5row3_col6{\n",
       "            background-color:  #88abfd;\n",
       "            color:  #000000;\n",
       "        }#T_85853881_e8df_11eb_b211_f8ac655a2ed5row3_col8{\n",
       "            background-color:  #e1dad6;\n",
       "            color:  #000000;\n",
       "        }#T_85853881_e8df_11eb_b211_f8ac655a2ed5row3_col9{\n",
       "            background-color:  #efcebd;\n",
       "            color:  #000000;\n",
       "        }#T_85853881_e8df_11eb_b211_f8ac655a2ed5row4_col0,#T_85853881_e8df_11eb_b211_f8ac655a2ed5row10_col6{\n",
       "            background-color:  #4b64d5;\n",
       "            color:  #f1f1f1;\n",
       "        }#T_85853881_e8df_11eb_b211_f8ac655a2ed5row4_col1,#T_85853881_e8df_11eb_b211_f8ac655a2ed5row10_col5{\n",
       "            background-color:  #5572df;\n",
       "            color:  #000000;\n",
       "        }#T_85853881_e8df_11eb_b211_f8ac655a2ed5row5_col1,#T_85853881_e8df_11eb_b211_f8ac655a2ed5row5_col10{\n",
       "            background-color:  #465ecf;\n",
       "            color:  #f1f1f1;\n",
       "        }#T_85853881_e8df_11eb_b211_f8ac655a2ed5row5_col3{\n",
       "            background-color:  #e7d7ce;\n",
       "            color:  #000000;\n",
       "        }#T_85853881_e8df_11eb_b211_f8ac655a2ed5row5_col4{\n",
       "            background-color:  #5a78e4;\n",
       "            color:  #000000;\n",
       "        }#T_85853881_e8df_11eb_b211_f8ac655a2ed5row5_col6{\n",
       "            background-color:  #eb7d62;\n",
       "            color:  #000000;\n",
       "        }#T_85853881_e8df_11eb_b211_f8ac655a2ed5row5_col7{\n",
       "            background-color:  #92b4fe;\n",
       "            color:  #000000;\n",
       "        }#T_85853881_e8df_11eb_b211_f8ac655a2ed5row5_col8{\n",
       "            background-color:  #ba162b;\n",
       "            color:  #f1f1f1;\n",
       "        }#T_85853881_e8df_11eb_b211_f8ac655a2ed5row5_col9{\n",
       "            background-color:  #ca3b37;\n",
       "            color:  #f1f1f1;\n",
       "        }#T_85853881_e8df_11eb_b211_f8ac655a2ed5row6_col2{\n",
       "            background-color:  #799cf8;\n",
       "            color:  #000000;\n",
       "        }#T_85853881_e8df_11eb_b211_f8ac655a2ed5row6_col3{\n",
       "            background-color:  #c6d6f1;\n",
       "            color:  #000000;\n",
       "        }#T_85853881_e8df_11eb_b211_f8ac655a2ed5row6_col4{\n",
       "            background-color:  #89acfd;\n",
       "            color:  #000000;\n",
       "        }#T_85853881_e8df_11eb_b211_f8ac655a2ed5row6_col5{\n",
       "            background-color:  #e57058;\n",
       "            color:  #000000;\n",
       "        }#T_85853881_e8df_11eb_b211_f8ac655a2ed5row6_col7{\n",
       "            background-color:  #6687ed;\n",
       "            color:  #000000;\n",
       "        }#T_85853881_e8df_11eb_b211_f8ac655a2ed5row6_col8{\n",
       "            background-color:  #f08a6c;\n",
       "            color:  #000000;\n",
       "        }#T_85853881_e8df_11eb_b211_f8ac655a2ed5row6_col9{\n",
       "            background-color:  #f7b396;\n",
       "            color:  #000000;\n",
       "        }#T_85853881_e8df_11eb_b211_f8ac655a2ed5row6_col10{\n",
       "            background-color:  #6e90f2;\n",
       "            color:  #000000;\n",
       "        }#T_85853881_e8df_11eb_b211_f8ac655a2ed5row7_col0{\n",
       "            background-color:  #6c8ff1;\n",
       "            color:  #000000;\n",
       "        }#T_85853881_e8df_11eb_b211_f8ac655a2ed5row7_col1,#T_85853881_e8df_11eb_b211_f8ac655a2ed5row7_col2{\n",
       "            background-color:  #4c66d6;\n",
       "            color:  #000000;\n",
       "        }#T_85853881_e8df_11eb_b211_f8ac655a2ed5row7_col3{\n",
       "            background-color:  #a3c2fe;\n",
       "            color:  #000000;\n",
       "        }#T_85853881_e8df_11eb_b211_f8ac655a2ed5row7_col4,#T_85853881_e8df_11eb_b211_f8ac655a2ed5row8_col7{\n",
       "            background-color:  #abc8fd;\n",
       "            color:  #000000;\n",
       "        }#T_85853881_e8df_11eb_b211_f8ac655a2ed5row7_col5{\n",
       "            background-color:  #cbd8ee;\n",
       "            color:  #000000;\n",
       "        }#T_85853881_e8df_11eb_b211_f8ac655a2ed5row7_col6{\n",
       "            background-color:  #81a4fb;\n",
       "            color:  #000000;\n",
       "        }#T_85853881_e8df_11eb_b211_f8ac655a2ed5row7_col8{\n",
       "            background-color:  #dddcdc;\n",
       "            color:  #000000;\n",
       "        }#T_85853881_e8df_11eb_b211_f8ac655a2ed5row8_col0{\n",
       "            background-color:  #485fd1;\n",
       "            color:  #f1f1f1;\n",
       "        }#T_85853881_e8df_11eb_b211_f8ac655a2ed5row8_col2{\n",
       "            background-color:  #7a9df8;\n",
       "            color:  #000000;\n",
       "        }#T_85853881_e8df_11eb_b211_f8ac655a2ed5row8_col3{\n",
       "            background-color:  #ead4c8;\n",
       "            color:  #000000;\n",
       "        }#T_85853881_e8df_11eb_b211_f8ac655a2ed5row8_col4{\n",
       "            background-color:  #5470de;\n",
       "            color:  #000000;\n",
       "        }#T_85853881_e8df_11eb_b211_f8ac655a2ed5row8_col5{\n",
       "            background-color:  #bb1b2c;\n",
       "            color:  #f1f1f1;\n",
       "        }#T_85853881_e8df_11eb_b211_f8ac655a2ed5row8_col6{\n",
       "            background-color:  #f59d7e;\n",
       "            color:  #000000;\n",
       "        }#T_85853881_e8df_11eb_b211_f8ac655a2ed5row8_col9,#T_85853881_e8df_11eb_b211_f8ac655a2ed5row9_col8{\n",
       "            background-color:  #c12b30;\n",
       "            color:  #f1f1f1;\n",
       "        }#T_85853881_e8df_11eb_b211_f8ac655a2ed5row9_col0{\n",
       "            background-color:  #3f53c6;\n",
       "            color:  #f1f1f1;\n",
       "        }#T_85853881_e8df_11eb_b211_f8ac655a2ed5row9_col1{\n",
       "            background-color:  #4257c9;\n",
       "            color:  #f1f1f1;\n",
       "        }#T_85853881_e8df_11eb_b211_f8ac655a2ed5row9_col2{\n",
       "            background-color:  #7da0f9;\n",
       "            color:  #000000;\n",
       "        }#T_85853881_e8df_11eb_b211_f8ac655a2ed5row9_col3,#T_85853881_e8df_11eb_b211_f8ac655a2ed5row9_col6{\n",
       "            background-color:  #f2cab5;\n",
       "            color:  #000000;\n",
       "        }#T_85853881_e8df_11eb_b211_f8ac655a2ed5row9_col4{\n",
       "            background-color:  #4a63d3;\n",
       "            color:  #f1f1f1;\n",
       "        }#T_85853881_e8df_11eb_b211_f8ac655a2ed5row9_col5{\n",
       "            background-color:  #cb3e38;\n",
       "            color:  #f1f1f1;\n",
       "        }#T_85853881_e8df_11eb_b211_f8ac655a2ed5row9_col7{\n",
       "            background-color:  #7396f5;\n",
       "            color:  #000000;\n",
       "        }#T_85853881_e8df_11eb_b211_f8ac655a2ed5row10_col1{\n",
       "            background-color:  #cdd9ec;\n",
       "            color:  #000000;\n",
       "        }#T_85853881_e8df_11eb_b211_f8ac655a2ed5row10_col2{\n",
       "            background-color:  #3e51c5;\n",
       "            color:  #f1f1f1;\n",
       "        }#T_85853881_e8df_11eb_b211_f8ac655a2ed5row10_col3{\n",
       "            background-color:  #6f92f3;\n",
       "            color:  #000000;\n",
       "        }#T_85853881_e8df_11eb_b211_f8ac655a2ed5row10_col4{\n",
       "            background-color:  #e0dbd8;\n",
       "            color:  #000000;\n",
       "        }#T_85853881_e8df_11eb_b211_f8ac655a2ed5row10_col7{\n",
       "            background-color:  #6485ec;\n",
       "            color:  #000000;\n",
       "        }#T_85853881_e8df_11eb_b211_f8ac655a2ed5row10_col8,#T_85853881_e8df_11eb_b211_f8ac655a2ed5row10_col9{\n",
       "            background-color:  #5977e3;\n",
       "            color:  #000000;\n",
       "        }</style><table id=\"T_85853881_e8df_11eb_b211_f8ac655a2ed5\" ><thead>    <tr>        <th class=\"blank level0\" ></th>        <th class=\"col_heading level0 col0\" >age</th>        <th class=\"col_heading level0 col1\" >duration</th>        <th class=\"col_heading level0 col2\" >campaign</th>        <th class=\"col_heading level0 col3\" >pdays</th>        <th class=\"col_heading level0 col4\" >previous</th>        <th class=\"col_heading level0 col5\" >emp.var.rate</th>        <th class=\"col_heading level0 col6\" >cons.price.idx</th>        <th class=\"col_heading level0 col7\" >cons.conf.idx</th>        <th class=\"col_heading level0 col8\" >euribor3m</th>        <th class=\"col_heading level0 col9\" >nr.employed</th>        <th class=\"col_heading level0 col10\" >subscribed</th>    </tr></thead><tbody>\n",
       "                <tr>\n",
       "                        <th id=\"T_85853881_e8df_11eb_b211_f8ac655a2ed5level0_row0\" class=\"row_heading level0 row0\" >age</th>\n",
       "                        <td id=\"T_85853881_e8df_11eb_b211_f8ac655a2ed5row0_col0\" class=\"data row0 col0\" >1.000000</td>\n",
       "                        <td id=\"T_85853881_e8df_11eb_b211_f8ac655a2ed5row0_col1\" class=\"data row0 col1\" >-0.000866</td>\n",
       "                        <td id=\"T_85853881_e8df_11eb_b211_f8ac655a2ed5row0_col2\" class=\"data row0 col2\" >0.004594</td>\n",
       "                        <td id=\"T_85853881_e8df_11eb_b211_f8ac655a2ed5row0_col3\" class=\"data row0 col3\" >-0.034369</td>\n",
       "                        <td id=\"T_85853881_e8df_11eb_b211_f8ac655a2ed5row0_col4\" class=\"data row0 col4\" >0.024365</td>\n",
       "                        <td id=\"T_85853881_e8df_11eb_b211_f8ac655a2ed5row0_col5\" class=\"data row0 col5\" >-0.000371</td>\n",
       "                        <td id=\"T_85853881_e8df_11eb_b211_f8ac655a2ed5row0_col6\" class=\"data row0 col6\" >0.000857</td>\n",
       "                        <td id=\"T_85853881_e8df_11eb_b211_f8ac655a2ed5row0_col7\" class=\"data row0 col7\" >0.129372</td>\n",
       "                        <td id=\"T_85853881_e8df_11eb_b211_f8ac655a2ed5row0_col8\" class=\"data row0 col8\" >0.010767</td>\n",
       "                        <td id=\"T_85853881_e8df_11eb_b211_f8ac655a2ed5row0_col9\" class=\"data row0 col9\" >-0.017725</td>\n",
       "                        <td id=\"T_85853881_e8df_11eb_b211_f8ac655a2ed5row0_col10\" class=\"data row0 col10\" >0.030399</td>\n",
       "            </tr>\n",
       "            <tr>\n",
       "                        <th id=\"T_85853881_e8df_11eb_b211_f8ac655a2ed5level0_row1\" class=\"row_heading level0 row1\" >duration</th>\n",
       "                        <td id=\"T_85853881_e8df_11eb_b211_f8ac655a2ed5row1_col0\" class=\"data row1 col0\" >-0.000866</td>\n",
       "                        <td id=\"T_85853881_e8df_11eb_b211_f8ac655a2ed5row1_col1\" class=\"data row1 col1\" >1.000000</td>\n",
       "                        <td id=\"T_85853881_e8df_11eb_b211_f8ac655a2ed5row1_col2\" class=\"data row1 col2\" >-0.071699</td>\n",
       "                        <td id=\"T_85853881_e8df_11eb_b211_f8ac655a2ed5row1_col3\" class=\"data row1 col3\" >-0.047577</td>\n",
       "                        <td id=\"T_85853881_e8df_11eb_b211_f8ac655a2ed5row1_col4\" class=\"data row1 col4\" >0.020640</td>\n",
       "                        <td id=\"T_85853881_e8df_11eb_b211_f8ac655a2ed5row1_col5\" class=\"data row1 col5\" >-0.027968</td>\n",
       "                        <td id=\"T_85853881_e8df_11eb_b211_f8ac655a2ed5row1_col6\" class=\"data row1 col6\" >0.005312</td>\n",
       "                        <td id=\"T_85853881_e8df_11eb_b211_f8ac655a2ed5row1_col7\" class=\"data row1 col7\" >-0.008173</td>\n",
       "                        <td id=\"T_85853881_e8df_11eb_b211_f8ac655a2ed5row1_col8\" class=\"data row1 col8\" >-0.032897</td>\n",
       "                        <td id=\"T_85853881_e8df_11eb_b211_f8ac655a2ed5row1_col9\" class=\"data row1 col9\" >-0.044703</td>\n",
       "                        <td id=\"T_85853881_e8df_11eb_b211_f8ac655a2ed5row1_col10\" class=\"data row1 col10\" >0.405274</td>\n",
       "            </tr>\n",
       "            <tr>\n",
       "                        <th id=\"T_85853881_e8df_11eb_b211_f8ac655a2ed5level0_row2\" class=\"row_heading level0 row2\" >campaign</th>\n",
       "                        <td id=\"T_85853881_e8df_11eb_b211_f8ac655a2ed5row2_col0\" class=\"data row2 col0\" >0.004594</td>\n",
       "                        <td id=\"T_85853881_e8df_11eb_b211_f8ac655a2ed5row2_col1\" class=\"data row2 col1\" >-0.071699</td>\n",
       "                        <td id=\"T_85853881_e8df_11eb_b211_f8ac655a2ed5row2_col2\" class=\"data row2 col2\" >1.000000</td>\n",
       "                        <td id=\"T_85853881_e8df_11eb_b211_f8ac655a2ed5row2_col3\" class=\"data row2 col3\" >0.052584</td>\n",
       "                        <td id=\"T_85853881_e8df_11eb_b211_f8ac655a2ed5row2_col4\" class=\"data row2 col4\" >-0.079141</td>\n",
       "                        <td id=\"T_85853881_e8df_11eb_b211_f8ac655a2ed5row2_col5\" class=\"data row2 col5\" >0.150754</td>\n",
       "                        <td id=\"T_85853881_e8df_11eb_b211_f8ac655a2ed5row2_col6\" class=\"data row2 col6\" >0.127836</td>\n",
       "                        <td id=\"T_85853881_e8df_11eb_b211_f8ac655a2ed5row2_col7\" class=\"data row2 col7\" >-0.013733</td>\n",
       "                        <td id=\"T_85853881_e8df_11eb_b211_f8ac655a2ed5row2_col8\" class=\"data row2 col8\" >0.135133</td>\n",
       "                        <td id=\"T_85853881_e8df_11eb_b211_f8ac655a2ed5row2_col9\" class=\"data row2 col9\" >0.144095</td>\n",
       "                        <td id=\"T_85853881_e8df_11eb_b211_f8ac655a2ed5row2_col10\" class=\"data row2 col10\" >-0.066357</td>\n",
       "            </tr>\n",
       "            <tr>\n",
       "                        <th id=\"T_85853881_e8df_11eb_b211_f8ac655a2ed5level0_row3\" class=\"row_heading level0 row3\" >pdays</th>\n",
       "                        <td id=\"T_85853881_e8df_11eb_b211_f8ac655a2ed5row3_col0\" class=\"data row3 col0\" >-0.034369</td>\n",
       "                        <td id=\"T_85853881_e8df_11eb_b211_f8ac655a2ed5row3_col1\" class=\"data row3 col1\" >-0.047577</td>\n",
       "                        <td id=\"T_85853881_e8df_11eb_b211_f8ac655a2ed5row3_col2\" class=\"data row3 col2\" >0.052584</td>\n",
       "                        <td id=\"T_85853881_e8df_11eb_b211_f8ac655a2ed5row3_col3\" class=\"data row3 col3\" >1.000000</td>\n",
       "                        <td id=\"T_85853881_e8df_11eb_b211_f8ac655a2ed5row3_col4\" class=\"data row3 col4\" >-0.587514</td>\n",
       "                        <td id=\"T_85853881_e8df_11eb_b211_f8ac655a2ed5row3_col5\" class=\"data row3 col5\" >0.271004</td>\n",
       "                        <td id=\"T_85853881_e8df_11eb_b211_f8ac655a2ed5row3_col6\" class=\"data row3 col6\" >0.078889</td>\n",
       "                        <td id=\"T_85853881_e8df_11eb_b211_f8ac655a2ed5row3_col7\" class=\"data row3 col7\" >-0.091342</td>\n",
       "                        <td id=\"T_85853881_e8df_11eb_b211_f8ac655a2ed5row3_col8\" class=\"data row3 col8\" >0.296899</td>\n",
       "                        <td id=\"T_85853881_e8df_11eb_b211_f8ac655a2ed5row3_col9\" class=\"data row3 col9\" >0.372605</td>\n",
       "                        <td id=\"T_85853881_e8df_11eb_b211_f8ac655a2ed5row3_col10\" class=\"data row3 col10\" >-0.324914</td>\n",
       "            </tr>\n",
       "            <tr>\n",
       "                        <th id=\"T_85853881_e8df_11eb_b211_f8ac655a2ed5level0_row4\" class=\"row_heading level0 row4\" >previous</th>\n",
       "                        <td id=\"T_85853881_e8df_11eb_b211_f8ac655a2ed5row4_col0\" class=\"data row4 col0\" >0.024365</td>\n",
       "                        <td id=\"T_85853881_e8df_11eb_b211_f8ac655a2ed5row4_col1\" class=\"data row4 col1\" >0.020640</td>\n",
       "                        <td id=\"T_85853881_e8df_11eb_b211_f8ac655a2ed5row4_col2\" class=\"data row4 col2\" >-0.079141</td>\n",
       "                        <td id=\"T_85853881_e8df_11eb_b211_f8ac655a2ed5row4_col3\" class=\"data row4 col3\" >-0.587514</td>\n",
       "                        <td id=\"T_85853881_e8df_11eb_b211_f8ac655a2ed5row4_col4\" class=\"data row4 col4\" >1.000000</td>\n",
       "                        <td id=\"T_85853881_e8df_11eb_b211_f8ac655a2ed5row4_col5\" class=\"data row4 col5\" >-0.420489</td>\n",
       "                        <td id=\"T_85853881_e8df_11eb_b211_f8ac655a2ed5row4_col6\" class=\"data row4 col6\" >-0.203130</td>\n",
       "                        <td id=\"T_85853881_e8df_11eb_b211_f8ac655a2ed5row4_col7\" class=\"data row4 col7\" >-0.050936</td>\n",
       "                        <td id=\"T_85853881_e8df_11eb_b211_f8ac655a2ed5row4_col8\" class=\"data row4 col8\" >-0.454494</td>\n",
       "                        <td id=\"T_85853881_e8df_11eb_b211_f8ac655a2ed5row4_col9\" class=\"data row4 col9\" >-0.501333</td>\n",
       "                        <td id=\"T_85853881_e8df_11eb_b211_f8ac655a2ed5row4_col10\" class=\"data row4 col10\" >0.230181</td>\n",
       "            </tr>\n",
       "            <tr>\n",
       "                        <th id=\"T_85853881_e8df_11eb_b211_f8ac655a2ed5level0_row5\" class=\"row_heading level0 row5\" >emp.var.rate</th>\n",
       "                        <td id=\"T_85853881_e8df_11eb_b211_f8ac655a2ed5row5_col0\" class=\"data row5 col0\" >-0.000371</td>\n",
       "                        <td id=\"T_85853881_e8df_11eb_b211_f8ac655a2ed5row5_col1\" class=\"data row5 col1\" >-0.027968</td>\n",
       "                        <td id=\"T_85853881_e8df_11eb_b211_f8ac655a2ed5row5_col2\" class=\"data row5 col2\" >0.150754</td>\n",
       "                        <td id=\"T_85853881_e8df_11eb_b211_f8ac655a2ed5row5_col3\" class=\"data row5 col3\" >0.271004</td>\n",
       "                        <td id=\"T_85853881_e8df_11eb_b211_f8ac655a2ed5row5_col4\" class=\"data row5 col4\" >-0.420489</td>\n",
       "                        <td id=\"T_85853881_e8df_11eb_b211_f8ac655a2ed5row5_col5\" class=\"data row5 col5\" >1.000000</td>\n",
       "                        <td id=\"T_85853881_e8df_11eb_b211_f8ac655a2ed5row5_col6\" class=\"data row5 col6\" >0.775334</td>\n",
       "                        <td id=\"T_85853881_e8df_11eb_b211_f8ac655a2ed5row5_col7\" class=\"data row5 col7\" >0.196041</td>\n",
       "                        <td id=\"T_85853881_e8df_11eb_b211_f8ac655a2ed5row5_col8\" class=\"data row5 col8\" >0.972245</td>\n",
       "                        <td id=\"T_85853881_e8df_11eb_b211_f8ac655a2ed5row5_col9\" class=\"data row5 col9\" >0.906970</td>\n",
       "                        <td id=\"T_85853881_e8df_11eb_b211_f8ac655a2ed5row5_col10\" class=\"data row5 col10\" >-0.298334</td>\n",
       "            </tr>\n",
       "            <tr>\n",
       "                        <th id=\"T_85853881_e8df_11eb_b211_f8ac655a2ed5level0_row6\" class=\"row_heading level0 row6\" >cons.price.idx</th>\n",
       "                        <td id=\"T_85853881_e8df_11eb_b211_f8ac655a2ed5row6_col0\" class=\"data row6 col0\" >0.000857</td>\n",
       "                        <td id=\"T_85853881_e8df_11eb_b211_f8ac655a2ed5row6_col1\" class=\"data row6 col1\" >0.005312</td>\n",
       "                        <td id=\"T_85853881_e8df_11eb_b211_f8ac655a2ed5row6_col2\" class=\"data row6 col2\" >0.127836</td>\n",
       "                        <td id=\"T_85853881_e8df_11eb_b211_f8ac655a2ed5row6_col3\" class=\"data row6 col3\" >0.078889</td>\n",
       "                        <td id=\"T_85853881_e8df_11eb_b211_f8ac655a2ed5row6_col4\" class=\"data row6 col4\" >-0.203130</td>\n",
       "                        <td id=\"T_85853881_e8df_11eb_b211_f8ac655a2ed5row6_col5\" class=\"data row6 col5\" >0.775334</td>\n",
       "                        <td id=\"T_85853881_e8df_11eb_b211_f8ac655a2ed5row6_col6\" class=\"data row6 col6\" >1.000000</td>\n",
       "                        <td id=\"T_85853881_e8df_11eb_b211_f8ac655a2ed5row6_col7\" class=\"data row6 col7\" >0.058986</td>\n",
       "                        <td id=\"T_85853881_e8df_11eb_b211_f8ac655a2ed5row6_col8\" class=\"data row6 col8\" >0.688230</td>\n",
       "                        <td id=\"T_85853881_e8df_11eb_b211_f8ac655a2ed5row6_col9\" class=\"data row6 col9\" >0.522034</td>\n",
       "                        <td id=\"T_85853881_e8df_11eb_b211_f8ac655a2ed5row6_col10\" class=\"data row6 col10\" >-0.136211</td>\n",
       "            </tr>\n",
       "            <tr>\n",
       "                        <th id=\"T_85853881_e8df_11eb_b211_f8ac655a2ed5level0_row7\" class=\"row_heading level0 row7\" >cons.conf.idx</th>\n",
       "                        <td id=\"T_85853881_e8df_11eb_b211_f8ac655a2ed5row7_col0\" class=\"data row7 col0\" >0.129372</td>\n",
       "                        <td id=\"T_85853881_e8df_11eb_b211_f8ac655a2ed5row7_col1\" class=\"data row7 col1\" >-0.008173</td>\n",
       "                        <td id=\"T_85853881_e8df_11eb_b211_f8ac655a2ed5row7_col2\" class=\"data row7 col2\" >-0.013733</td>\n",
       "                        <td id=\"T_85853881_e8df_11eb_b211_f8ac655a2ed5row7_col3\" class=\"data row7 col3\" >-0.091342</td>\n",
       "                        <td id=\"T_85853881_e8df_11eb_b211_f8ac655a2ed5row7_col4\" class=\"data row7 col4\" >-0.050936</td>\n",
       "                        <td id=\"T_85853881_e8df_11eb_b211_f8ac655a2ed5row7_col5\" class=\"data row7 col5\" >0.196041</td>\n",
       "                        <td id=\"T_85853881_e8df_11eb_b211_f8ac655a2ed5row7_col6\" class=\"data row7 col6\" >0.058986</td>\n",
       "                        <td id=\"T_85853881_e8df_11eb_b211_f8ac655a2ed5row7_col7\" class=\"data row7 col7\" >1.000000</td>\n",
       "                        <td id=\"T_85853881_e8df_11eb_b211_f8ac655a2ed5row7_col8\" class=\"data row7 col8\" >0.277686</td>\n",
       "                        <td id=\"T_85853881_e8df_11eb_b211_f8ac655a2ed5row7_col9\" class=\"data row7 col9\" >0.100513</td>\n",
       "                        <td id=\"T_85853881_e8df_11eb_b211_f8ac655a2ed5row7_col10\" class=\"data row7 col10\" >0.054878</td>\n",
       "            </tr>\n",
       "            <tr>\n",
       "                        <th id=\"T_85853881_e8df_11eb_b211_f8ac655a2ed5level0_row8\" class=\"row_heading level0 row8\" >euribor3m</th>\n",
       "                        <td id=\"T_85853881_e8df_11eb_b211_f8ac655a2ed5row8_col0\" class=\"data row8 col0\" >0.010767</td>\n",
       "                        <td id=\"T_85853881_e8df_11eb_b211_f8ac655a2ed5row8_col1\" class=\"data row8 col1\" >-0.032897</td>\n",
       "                        <td id=\"T_85853881_e8df_11eb_b211_f8ac655a2ed5row8_col2\" class=\"data row8 col2\" >0.135133</td>\n",
       "                        <td id=\"T_85853881_e8df_11eb_b211_f8ac655a2ed5row8_col3\" class=\"data row8 col3\" >0.296899</td>\n",
       "                        <td id=\"T_85853881_e8df_11eb_b211_f8ac655a2ed5row8_col4\" class=\"data row8 col4\" >-0.454494</td>\n",
       "                        <td id=\"T_85853881_e8df_11eb_b211_f8ac655a2ed5row8_col5\" class=\"data row8 col5\" >0.972245</td>\n",
       "                        <td id=\"T_85853881_e8df_11eb_b211_f8ac655a2ed5row8_col6\" class=\"data row8 col6\" >0.688230</td>\n",
       "                        <td id=\"T_85853881_e8df_11eb_b211_f8ac655a2ed5row8_col7\" class=\"data row8 col7\" >0.277686</td>\n",
       "                        <td id=\"T_85853881_e8df_11eb_b211_f8ac655a2ed5row8_col8\" class=\"data row8 col8\" >1.000000</td>\n",
       "                        <td id=\"T_85853881_e8df_11eb_b211_f8ac655a2ed5row8_col9\" class=\"data row8 col9\" >0.945154</td>\n",
       "                        <td id=\"T_85853881_e8df_11eb_b211_f8ac655a2ed5row8_col10\" class=\"data row8 col10\" >-0.307771</td>\n",
       "            </tr>\n",
       "            <tr>\n",
       "                        <th id=\"T_85853881_e8df_11eb_b211_f8ac655a2ed5level0_row9\" class=\"row_heading level0 row9\" >nr.employed</th>\n",
       "                        <td id=\"T_85853881_e8df_11eb_b211_f8ac655a2ed5row9_col0\" class=\"data row9 col0\" >-0.017725</td>\n",
       "                        <td id=\"T_85853881_e8df_11eb_b211_f8ac655a2ed5row9_col1\" class=\"data row9 col1\" >-0.044703</td>\n",
       "                        <td id=\"T_85853881_e8df_11eb_b211_f8ac655a2ed5row9_col2\" class=\"data row9 col2\" >0.144095</td>\n",
       "                        <td id=\"T_85853881_e8df_11eb_b211_f8ac655a2ed5row9_col3\" class=\"data row9 col3\" >0.372605</td>\n",
       "                        <td id=\"T_85853881_e8df_11eb_b211_f8ac655a2ed5row9_col4\" class=\"data row9 col4\" >-0.501333</td>\n",
       "                        <td id=\"T_85853881_e8df_11eb_b211_f8ac655a2ed5row9_col5\" class=\"data row9 col5\" >0.906970</td>\n",
       "                        <td id=\"T_85853881_e8df_11eb_b211_f8ac655a2ed5row9_col6\" class=\"data row9 col6\" >0.522034</td>\n",
       "                        <td id=\"T_85853881_e8df_11eb_b211_f8ac655a2ed5row9_col7\" class=\"data row9 col7\" >0.100513</td>\n",
       "                        <td id=\"T_85853881_e8df_11eb_b211_f8ac655a2ed5row9_col8\" class=\"data row9 col8\" >0.945154</td>\n",
       "                        <td id=\"T_85853881_e8df_11eb_b211_f8ac655a2ed5row9_col9\" class=\"data row9 col9\" >1.000000</td>\n",
       "                        <td id=\"T_85853881_e8df_11eb_b211_f8ac655a2ed5row9_col10\" class=\"data row9 col10\" >-0.354678</td>\n",
       "            </tr>\n",
       "            <tr>\n",
       "                        <th id=\"T_85853881_e8df_11eb_b211_f8ac655a2ed5level0_row10\" class=\"row_heading level0 row10\" >subscribed</th>\n",
       "                        <td id=\"T_85853881_e8df_11eb_b211_f8ac655a2ed5row10_col0\" class=\"data row10 col0\" >0.030399</td>\n",
       "                        <td id=\"T_85853881_e8df_11eb_b211_f8ac655a2ed5row10_col1\" class=\"data row10 col1\" >0.405274</td>\n",
       "                        <td id=\"T_85853881_e8df_11eb_b211_f8ac655a2ed5row10_col2\" class=\"data row10 col2\" >-0.066357</td>\n",
       "                        <td id=\"T_85853881_e8df_11eb_b211_f8ac655a2ed5row10_col3\" class=\"data row10 col3\" >-0.324914</td>\n",
       "                        <td id=\"T_85853881_e8df_11eb_b211_f8ac655a2ed5row10_col4\" class=\"data row10 col4\" >0.230181</td>\n",
       "                        <td id=\"T_85853881_e8df_11eb_b211_f8ac655a2ed5row10_col5\" class=\"data row10 col5\" >-0.298334</td>\n",
       "                        <td id=\"T_85853881_e8df_11eb_b211_f8ac655a2ed5row10_col6\" class=\"data row10 col6\" >-0.136211</td>\n",
       "                        <td id=\"T_85853881_e8df_11eb_b211_f8ac655a2ed5row10_col7\" class=\"data row10 col7\" >0.054878</td>\n",
       "                        <td id=\"T_85853881_e8df_11eb_b211_f8ac655a2ed5row10_col8\" class=\"data row10 col8\" >-0.307771</td>\n",
       "                        <td id=\"T_85853881_e8df_11eb_b211_f8ac655a2ed5row10_col9\" class=\"data row10 col9\" >-0.354678</td>\n",
       "                        <td id=\"T_85853881_e8df_11eb_b211_f8ac655a2ed5row10_col10\" class=\"data row10 col10\" >1.000000</td>\n",
       "            </tr>\n",
       "    </tbody></table>"
      ],
      "text/plain": [
       "<pandas.io.formats.style.Styler at 0x22a2924fb80>"
      ]
     },
     "execution_count": 89,
     "metadata": {},
     "output_type": "execute_result"
    }
   ],
   "source": [
    "corrMatrix = df_data_new.corr()\n",
    "corrMatrix.style.background_gradient(cmap='coolwarm')"
   ]
  },
  {
   "cell_type": "markdown",
   "metadata": {},
   "source": [
    "* **Observations**\n",
    "1. None of the features have a very high correlation with whether a consumer opened a deposit account or not  \n",
    "    1.1 Duration has the highest correlation with y of all the features (0.4)  \n",
    "2. The social and economic features have a high correlation with one another. However, these are over different time intervals (daily, monthly, quarterly). These will have to be converted to a **common scale** <a name=\"scaled\"></a> later on before feeding into model(s).  \n",
    "    2.1 euribor3m (Euro Inter Bank Offered Rate), emp.var.rate (employement variation rate), and nr.employed (number of employees) all have a high, positive correlation with one another  \n",
    "    2.2 cons.price.idx (consumer price index) has a high, positive correlation with emp.var.rate"
   ]
  },
  {
   "cell_type": "markdown",
   "metadata": {},
   "source": [
    "### Effect of Age on Subscription"
   ]
  },
  {
   "cell_type": "code",
   "execution_count": 90,
   "metadata": {},
   "outputs": [],
   "source": [
    "df_age_sub = df_data_new[df_data_new['subscribed']==1].age.value_counts()\n",
    "df_age_notsub = df_data_new[df_data_new['subscribed']==0].age.value_counts()\n",
    "\n",
    "df_age_sub = df_age_sub.to_frame().reset_index()\n",
    "df_age_sub.columns = ['age', 'cnt_subscribed']\n",
    "\n",
    "df_age_notsub = df_age_notsub.to_frame().reset_index()\n",
    "df_age_notsub.columns = ['age', 'cnt_notsubscribed']\n",
    "\n",
    "df_age_range = pd.merge(df_age_sub, df_age_notsub, how='outer', on='age')\n",
    "df_age_range['ratio'] = df_age_range['cnt_subscribed']/df_age_range['cnt_notsubscribed']\n",
    "# df_age_range.sort_values('ratio', ascending=False)"
   ]
  },
  {
   "cell_type": "code",
   "execution_count": 91,
   "metadata": {},
   "outputs": [
    {
     "data": {
      "text/plain": [
       "<AxesSubplot:title={'center':'Effect of Age on subscribership'}, xlabel='age'>"
      ]
     },
     "execution_count": 91,
     "metadata": {},
     "output_type": "execute_result"
    },
    {
     "data": {
      "image/png": "[encoded data removed]",
      "text/plain": [
       "<Figure size 432x288 with 1 Axes>"
      ]
     },
     "metadata": {
      "needs_background": "light"
     },
     "output_type": "display_data"
    }
   ],
   "source": [
    "df_age_range.plot(x='age', y='ratio', style='o', grid=True, title = 'Effect of Age on subscribership')"
   ]
  },
  {
   "cell_type": "code",
   "execution_count": 92,
   "metadata": {},
   "outputs": [
    {
     "data": {
      "text/plain": [
       "<AxesSubplot:ylabel='Density'>"
      ]
     },
     "execution_count": 92,
     "metadata": {},
     "output_type": "execute_result"
    },
    {
     "data": {
      "image/png": "[encoded data removed]",
      "text/plain": [
       "<Figure size 432x288 with 1 Axes>"
      ]
     },
     "metadata": {
      "needs_background": "light"
     },
     "output_type": "display_data"
    }
   ],
   "source": [
    "df1_data.age.plot(kind='kde')"
   ]
  },
  {
   "cell_type": "markdown",
   "metadata": {},
   "source": [
    "* **Observations**\n",
    "    1. Before the age of 20 and after the age of 60, there is a 50% + probablity of potential clients subscribing for term deposit\n",
    "    2. But again - the large density of data is in the range from 20-60 years so the above observation is on a small set of data and hence not very conclusive."
   ]
  },
  {
   "cell_type": "markdown",
   "metadata": {},
   "source": [
    "### Label Encoding \n",
    "#### Understanding relation between Job Types and Subscribership"
   ]
  },
  {
   "cell_type": "code",
   "execution_count": 93,
   "metadata": {},
   "outputs": [],
   "source": [
    "labelencoder = LabelEncoder()\n",
    "df_data['Job_Types_Cat'] = labelencoder.fit_transform(df_data['job'])"
   ]
  },
  {
   "cell_type": "code",
   "execution_count": 94,
   "metadata": {},
   "outputs": [
    {
     "name": "stdout",
     "output_type": "stream",
     "text": [
      "{'admin.': 0, 'blue-collar': 1, 'entrepreneur': 2, 'housemaid': 3, 'management': 4, 'retired': 5, 'self-employed': 6, 'services': 7, 'student': 8, 'technician': 9, 'unemployed': 10, 'unknown': 11}\n"
     ]
    },
    {
     "data": {
      "image/png": "[encoded data removed]",
      "text/plain": [
       "<Figure size 504x360 with 1 Axes>"
      ]
     },
     "metadata": {
      "needs_background": "light"
     },
     "output_type": "display_data"
    }
   ],
   "source": [
    "plt.figure(figsize=(7,5))\n",
    "plt.xticks(size=12)\n",
    "plt.xlabel('Job_Types_Cat',size=12)\n",
    "plt.yticks(size=12)\n",
    "plt.ylabel('subscribed',size=12)\n",
    "ax = sns.histplot(data=df_data_new, x=df_data['Job_Types_Cat'], hue = 'subscribed')\n",
    "ax.legend(labels=['subscribed','not subscribed'])\n",
    "_ = ax.set_title('Fig: 3 - % Subscribership by Job Type')\n",
    "\n",
    "le_name_mapping = dict(zip(labelencoder.classes_, labelencoder.transform(labelencoder.classes_)))\n",
    "print(le_name_mapping)"
   ]
  },
  {
   "cell_type": "markdown",
   "metadata": {},
   "source": [
    "* **Observations**\n",
    "    1. Students and retired people seem to be more likely to subscribe to term deposit compared to other job workers"
   ]
  },
  {
   "cell_type": "markdown",
   "metadata": {},
   "source": [
    "### Effect of Loan"
   ]
  },
  {
   "cell_type": "code",
   "execution_count": 95,
   "metadata": {},
   "outputs": [],
   "source": [
    "df1_data['has_loan'] = np.where((df1_data['housing']=='yes') | (df1_data['loan']=='yes'), 1, 0).copy()\n",
    "df1_data['has_default'] = np.where(df1_data['default'] == 'yes', 1, 0).copy()\n"
   ]
  },
  {
   "cell_type": "code",
   "execution_count": 96,
   "metadata": {},
   "outputs": [
    {
     "data": {
      "text/plain": [
       "<seaborn.axisgrid.FacetGrid at 0x22a269dcaf0>"
      ]
     },
     "execution_count": 96,
     "metadata": {},
     "output_type": "execute_result"
    },
    {
     "data": {
      "image/png": "[encoded data removed]",
      "text/plain": [
       "<Figure size 440x432 with 4 Axes>"
      ]
     },
     "metadata": {
      "needs_background": "light"
     },
     "output_type": "display_data"
    }
   ],
   "source": [
    "grid = sns.FacetGrid(df1_data, col='subscribed', row='has_loan')\n",
    "grid.map(plt.hist, 'age', alpha=0.5, bins=20)\n",
    "grid.set_titles('Fig: 4 - Effect of loan on subscribership')\n",
    "grid.add_legend()"
   ]
  },
  {
   "cell_type": "markdown",
   "metadata": {},
   "source": [
    "* **Observations**\n",
    "    1. Surprisingly, people having having a loan (housing or personal) are marginally more likely to subscribe to term deposit"
   ]
  },
  {
   "cell_type": "markdown",
   "metadata": {},
   "source": [
    "### Categorical Data Analysis"
   ]
  },
  {
   "cell_type": "code",
   "execution_count": 97,
   "metadata": {},
   "outputs": [],
   "source": [
    "df_data_categorical = df_data_new[['job','marital','education','default','housing','loan','contact','month','day_of_week','poutcome','subscribed']]      "
   ]
  },
  {
   "cell_type": "code",
   "execution_count": 98,
   "metadata": {},
   "outputs": [
    {
     "data": {
      "text/html": [
       "<div>\n",
       "<style scoped>\n",
       "    .dataframe tbody tr th:only-of-type {\n",
       "        vertical-align: middle;\n",
       "    }\n",
       "\n",
       "    .dataframe tbody tr th {\n",
       "        vertical-align: top;\n",
       "    }\n",
       "\n",
       "    .dataframe thead th {\n",
       "        text-align: right;\n",
       "    }\n",
       "</style>\n",
       "<table border=\"1\" class=\"dataframe\">\n",
       "  <thead>\n",
       "    <tr style=\"text-align: right;\">\n",
       "      <th>job</th>\n",
       "      <th>admin.</th>\n",
       "      <th>blue-collar</th>\n",
       "      <th>entrepreneur</th>\n",
       "      <th>housemaid</th>\n",
       "      <th>management</th>\n",
       "      <th>retired</th>\n",
       "      <th>self-employed</th>\n",
       "      <th>services</th>\n",
       "      <th>student</th>\n",
       "      <th>technician</th>\n",
       "      <th>unemployed</th>\n",
       "    </tr>\n",
       "    <tr>\n",
       "      <th>subscribed</th>\n",
       "      <th></th>\n",
       "      <th></th>\n",
       "      <th></th>\n",
       "      <th></th>\n",
       "      <th></th>\n",
       "      <th></th>\n",
       "      <th></th>\n",
       "      <th></th>\n",
       "      <th></th>\n",
       "      <th></th>\n",
       "      <th></th>\n",
       "    </tr>\n",
       "  </thead>\n",
       "  <tbody>\n",
       "    <tr>\n",
       "      <th>0</th>\n",
       "      <td>0.870274</td>\n",
       "      <td>0.931057</td>\n",
       "      <td>0.914835</td>\n",
       "      <td>0.9</td>\n",
       "      <td>0.887825</td>\n",
       "      <td>0.747674</td>\n",
       "      <td>0.895144</td>\n",
       "      <td>0.918619</td>\n",
       "      <td>0.685714</td>\n",
       "      <td>0.89174</td>\n",
       "      <td>0.857988</td>\n",
       "    </tr>\n",
       "    <tr>\n",
       "      <th>1</th>\n",
       "      <td>0.129726</td>\n",
       "      <td>0.068943</td>\n",
       "      <td>0.085165</td>\n",
       "      <td>0.1</td>\n",
       "      <td>0.112175</td>\n",
       "      <td>0.252326</td>\n",
       "      <td>0.104856</td>\n",
       "      <td>0.081381</td>\n",
       "      <td>0.314286</td>\n",
       "      <td>0.10826</td>\n",
       "      <td>0.142012</td>\n",
       "    </tr>\n",
       "  </tbody>\n",
       "</table>\n",
       "</div>"
      ],
      "text/plain": [
       "job           admin.  blue-collar  entrepreneur  housemaid  management  \\\n",
       "subscribed                                                               \n",
       "0           0.870274     0.931057      0.914835        0.9    0.887825   \n",
       "1           0.129726     0.068943      0.085165        0.1    0.112175   \n",
       "\n",
       "job          retired  self-employed  services   student  technician  \\\n",
       "subscribed                                                            \n",
       "0           0.747674       0.895144  0.918619  0.685714     0.89174   \n",
       "1           0.252326       0.104856  0.081381  0.314286     0.10826   \n",
       "\n",
       "job         unemployed  \n",
       "subscribed              \n",
       "0             0.857988  \n",
       "1             0.142012  "
      ]
     },
     "execution_count": 98,
     "metadata": {},
     "output_type": "execute_result"
    }
   ],
   "source": [
    "pd.crosstab(df_data_categorical.subscribed,df_data_categorical.job).apply(lambda r: r/r.sum())"
   ]
  },
  {
   "cell_type": "markdown",
   "metadata": {},
   "source": [
    "* **Observations**\n",
    "As previously observed in Fig: 3, certain employment types seem to have a slightly higher success rate (retired and student) than others. Unemployed doesn't seem to have a higher impact on \"no\"'s than some of the other job types. "
   ]
  },
  {
   "cell_type": "code",
   "execution_count": 99,
   "metadata": {},
   "outputs": [
    {
     "data": {
      "text/html": [
       "<div>\n",
       "<style scoped>\n",
       "    .dataframe tbody tr th:only-of-type {\n",
       "        vertical-align: middle;\n",
       "    }\n",
       "\n",
       "    .dataframe tbody tr th {\n",
       "        vertical-align: top;\n",
       "    }\n",
       "\n",
       "    .dataframe thead th {\n",
       "        text-align: right;\n",
       "    }\n",
       "</style>\n",
       "<table border=\"1\" class=\"dataframe\">\n",
       "  <thead>\n",
       "    <tr style=\"text-align: right;\">\n",
       "      <th>education</th>\n",
       "      <th>basic.4y</th>\n",
       "      <th>basic.6y</th>\n",
       "      <th>basic.9y</th>\n",
       "      <th>high.school</th>\n",
       "      <th>illiterate</th>\n",
       "      <th>professional.course</th>\n",
       "      <th>university.degree</th>\n",
       "    </tr>\n",
       "    <tr>\n",
       "      <th>subscribed</th>\n",
       "      <th></th>\n",
       "      <th></th>\n",
       "      <th></th>\n",
       "      <th></th>\n",
       "      <th></th>\n",
       "      <th></th>\n",
       "      <th></th>\n",
       "    </tr>\n",
       "  </thead>\n",
       "  <tbody>\n",
       "    <tr>\n",
       "      <th>0</th>\n",
       "      <td>0.89751</td>\n",
       "      <td>0.917976</td>\n",
       "      <td>0.921754</td>\n",
       "      <td>0.891645</td>\n",
       "      <td>0.777778</td>\n",
       "      <td>0.886515</td>\n",
       "      <td>0.862755</td>\n",
       "    </tr>\n",
       "    <tr>\n",
       "      <th>1</th>\n",
       "      <td>0.10249</td>\n",
       "      <td>0.082024</td>\n",
       "      <td>0.078246</td>\n",
       "      <td>0.108355</td>\n",
       "      <td>0.222222</td>\n",
       "      <td>0.113485</td>\n",
       "      <td>0.137245</td>\n",
       "    </tr>\n",
       "  </tbody>\n",
       "</table>\n",
       "</div>"
      ],
      "text/plain": [
       "education   basic.4y  basic.6y  basic.9y  high.school  illiterate  \\\n",
       "subscribed                                                          \n",
       "0            0.89751  0.917976  0.921754     0.891645    0.777778   \n",
       "1            0.10249  0.082024  0.078246     0.108355    0.222222   \n",
       "\n",
       "education   professional.course  university.degree  \n",
       "subscribed                                          \n",
       "0                      0.886515           0.862755  \n",
       "1                      0.113485           0.137245  "
      ]
     },
     "execution_count": 99,
     "metadata": {},
     "output_type": "execute_result"
    }
   ],
   "source": [
    "pd.crosstab(df_data_categorical.subscribed,df_data_categorical.education).apply(lambda r: r/r.sum())"
   ]
  },
  {
   "cell_type": "markdown",
   "metadata": {},
   "source": [
    "* **Observation**\n",
    "Education level doesn't seem to have a significant impact on yes vs. no's. "
   ]
  },
  {
   "cell_type": "code",
   "execution_count": 100,
   "metadata": {},
   "outputs": [
    {
     "data": {
      "text/plain": [
       "Text(0.5, 1.0, 'Fig: 5 - Effect of Previous Campaign')"
      ]
     },
     "execution_count": 100,
     "metadata": {},
     "output_type": "execute_result"
    },
    {
     "data": {
      "image/png": "[encoded data removed]",
      "text/plain": [
       "<Figure size 432x288 with 1 Axes>"
      ]
     },
     "metadata": {
      "needs_background": "light"
     },
     "output_type": "display_data"
    }
   ],
   "source": [
    "sns.barplot(x='poutcome', y='subscribed', data=df_data_categorical).set_title('Fig: 5 - Effect of Previous Campaign')"
   ]
  },
  {
   "cell_type": "markdown",
   "metadata": {},
   "source": [
    "* **Observation**\n",
    "The outcome of previous marketing campaigns contribute significantly towards a client subscribing; a previously subscribed client is likely to subscribe again."
   ]
  },
  {
   "cell_type": "code",
   "execution_count": 101,
   "metadata": {},
   "outputs": [
    {
     "data": {
      "text/plain": [
       "Text(0.5, 1.0, 'Fig: 6 - Subscribership by month')"
      ]
     },
     "execution_count": 101,
     "metadata": {},
     "output_type": "execute_result"
    },
    {
     "data": {
      "image/png": "[encoded data removed]",
      "text/plain": [
       "<Figure size 432x288 with 1 Axes>"
      ]
     },
     "metadata": {},
     "output_type": "display_data"
    }
   ],
   "source": [
    "data = df_data_new.groupby(\"month\")[\"subscribed\"].sum()\n",
    "data.plot.pie(autopct=\"%.1f%%\").set_title('Fig: 6 - Subscribership by month')"
   ]
  },
  {
   "cell_type": "markdown",
   "metadata": {},
   "source": [
    "* **Observation**\n",
    "The months of May-Jun-Aug have more clients subscribing compared to other months"
   ]
  },
  {
   "cell_type": "markdown",
   "metadata": {},
   "source": [
    "Since the class distribution is not uniform among the classes in the imbalanced dataset, the model will be biased towards the majority class. There is a way to solve the class imbalanced problem.\n",
    "- Resampling - is used to adjust the class distribution of a data set \n",
    "    * Undersampling - Undersampling resamples the majority class points in the data to make them equal to the minority class points.\n",
    "    * Oversampling - Oversampling refers to the resampling of the minority class points to equal the total number of majority points. \n"
   ]
  },
  {
   "cell_type": "markdown",
   "metadata": {},
   "source": [
    "## Resampling"
   ]
  },
  {
   "cell_type": "code",
   "execution_count": 102,
   "metadata": {},
   "outputs": [
    {
     "name": "stdout",
     "output_type": "stream",
     "text": [
      "class 0: (36548, 23)\n",
      "class 1: (4640, 23)\n"
     ]
    }
   ],
   "source": [
    "# class count\n",
    "class_count_0, class_count_1 = df1_data['subscribed'].value_counts()\n",
    "\n",
    "# Separate class\n",
    "class_0 = df1_data[df1_data['subscribed'] == 0]\n",
    "class_1 = df1_data[df1_data['subscribed'] == 1]\n",
    "\n",
    "print('class 0:', class_0.shape)\n",
    "print('class 1:', class_1.shape)"
   ]
  },
  {
   "cell_type": "markdown",
   "metadata": {},
   "source": [
    "### Random Under-Sampling"
   ]
  },
  {
   "cell_type": "code",
   "execution_count": 103,
   "metadata": {},
   "outputs": [
    {
     "name": "stdout",
     "output_type": "stream",
     "text": [
      "total class of 1 and0: 1    4640\n",
      "0    4640\n",
      "Name: subscribed, dtype: int64\n"
     ]
    },
    {
     "data": {
      "text/plain": [
       "<AxesSubplot:title={'center':'count (target)'}>"
      ]
     },
     "execution_count": 103,
     "metadata": {},
     "output_type": "execute_result"
    },
    {
     "data": {
      "image/png": "[encoded data removed]",
      "text/plain": [
       "<Figure size 432x288 with 1 Axes>"
      ]
     },
     "metadata": {
      "needs_background": "light"
     },
     "output_type": "display_data"
    }
   ],
   "source": [
    "class_0_under = class_0.sample(class_count_1)\n",
    "\n",
    "test_under = pd.concat([class_0_under, class_1], axis=0)\n",
    "\n",
    "print(\"total class of 1 and0:\",test_under['subscribed'].value_counts())\n",
    "\n",
    "# plot the count after under-sampeling\n",
    "test_under['subscribed'].value_counts().plot(kind='bar', title='count (target)')\n"
   ]
  },
  {
   "cell_type": "markdown",
   "metadata": {},
   "source": [
    "Disadvantage of undersampling:Since we don't use the significant number of data points,we are losing information, and as a result, we will not get significant results."
   ]
  },
  {
   "cell_type": "markdown",
   "metadata": {},
   "source": [
    "### Random Over-Sampling"
   ]
  },
  {
   "cell_type": "code",
   "execution_count": 104,
   "metadata": {},
   "outputs": [
    {
     "name": "stdout",
     "output_type": "stream",
     "text": [
      "total class of 1 and 0: 1    36548\n",
      "0    36548\n",
      "Name: subscribed, dtype: int64\n"
     ]
    },
    {
     "data": {
      "image/png": "[encoded data removed]",
      "text/plain": [
       "<Figure size 432x288 with 1 Axes>"
      ]
     },
     "metadata": {
      "needs_background": "light"
     },
     "output_type": "display_data"
    }
   ],
   "source": [
    "class_1_over = class_1.sample(class_count_0, replace=True)\n",
    "\n",
    "test_over = pd.concat([class_1_over, class_0], axis=0)\n",
    "\n",
    "print(\"total class of 1 and 0:\",test_over['subscribed'].value_counts())\n",
    "\n",
    "# plot the count after under-sampeling\n",
    "test_over['subscribed'].value_counts().plot(kind='bar', title='count (target)')\n",
    "df1_data= test_over.copy()"
   ]
  },
  {
   "cell_type": "markdown",
   "metadata": {},
   "source": [
    "Moving ahead with **random over-sampling** because undersampling can cause overfitting and poor generalization and we don't have a lot of data so there's a good chance that valuable information is being removed."
   ]
  },
  {
   "cell_type": "markdown",
   "metadata": {},
   "source": [
    "#### Missing Value % after Over-Sampling "
   ]
  },
  {
   "cell_type": "code",
   "execution_count": 105,
   "metadata": {},
   "outputs": [
    {
     "name": "stdout",
     "output_type": "stream",
     "text": [
      "default      11613\n",
      "education     3406\n",
      "housing       1746\n",
      "loan          1746\n",
      "job            620\n",
      "marital        183\n",
      "dtype: int64\n",
      "           Total          %\n",
      "default    11613  15.887326\n",
      "education   3406   4.659626\n",
      "housing     1746   2.388640\n",
      "loan        1746   2.388640\n",
      "job          620   0.848200\n",
      "marital      183   0.250356\n"
     ]
    }
   ],
   "source": [
    "total = test_over.isnull().sum().sort_values(ascending=False)\n",
    "percent_1 = test_over.isnull().sum()/test_over.isnull().count()*100\n",
    "percent_2 = percent_1.sort_values(ascending=False)\n",
    "missing_data = pd.concat([total, percent_2], axis = 1, keys = ['Total', '%'])\n",
    "print(total.head(6))\n",
    "print(missing_data.head(6))"
   ]
  },
  {
   "cell_type": "markdown",
   "metadata": {},
   "source": [
    "The missing value in the dataset is below 16% after oversampling the imbalanced dataset."
   ]
  },
  {
   "cell_type": "markdown",
   "metadata": {},
   "source": [
    "## Chi-Squared Test\n",
    "A Chi-Square test is a test of statistical significance for categorical variables. It helps to understand the relationship between the categorial variables of the dataset. This helps us analyze the dependence of one category of the variable on the other independent category of the variable. Chi-squared test is performed between categorical variable and class variable. <br>\n",
    "\n",
    "* The null hypothesis -The grouping variables have no association or correlation amongst them.\n",
    "* The alternate Hypothesis-The variables are associated with each other and happen to have a correlation between the variables.\n"
   ]
  },
  {
   "cell_type": "code",
   "execution_count": 106,
   "metadata": {},
   "outputs": [],
   "source": [
    "from scipy.stats import chi2_contingency\n",
    "from scipy.stats import chi2"
   ]
  },
  {
   "cell_type": "code",
   "execution_count": 107,
   "metadata": {},
   "outputs": [
    {
     "data": {
      "text/plain": [
       "1    36548\n",
       "0    36548\n",
       "Name: subscribed, dtype: int64"
      ]
     },
     "execution_count": 107,
     "metadata": {},
     "output_type": "execute_result"
    }
   ],
   "source": [
    "test_over.subscribed.value_counts()"
   ]
  },
  {
   "cell_type": "code",
   "execution_count": 108,
   "metadata": {},
   "outputs": [],
   "source": [
    "test_over.fillna('unknown', inplace=True)"
   ]
  },
  {
   "cell_type": "code",
   "execution_count": 109,
   "metadata": {},
   "outputs": [],
   "source": [
    "dfcategorical = test_over[['subscribed','job','marital','education','housing','loan']].copy()"
   ]
  },
  {
   "cell_type": "markdown",
   "metadata": {},
   "source": [
    "### Chi Square for subscribed and Unknown Values of Job"
   ]
  },
  {
   "cell_type": "code",
   "execution_count": 110,
   "metadata": {},
   "outputs": [],
   "source": [
    "dfcategorical['job'] = np.where(test_over['job']=='unknown', 'unknown', 'known')"
   ]
  },
  {
   "cell_type": "code",
   "execution_count": 111,
   "metadata": {},
   "outputs": [
    {
     "data": {
      "text/plain": [
       "known      72476\n",
       "unknown      620\n",
       "Name: job, dtype: int64"
      ]
     },
     "execution_count": 111,
     "metadata": {},
     "output_type": "execute_result"
    }
   ],
   "source": [
    "dfcategorical.job.value_counts()"
   ]
  },
  {
   "cell_type": "code",
   "execution_count": 112,
   "metadata": {},
   "outputs": [
    {
     "name": "stdout",
     "output_type": "stream",
     "text": [
      "job         known  unknown\n",
      "subscribed                \n",
      "0           36255      293\n",
      "1           36221      327\n",
      "p value is 0.18319936005691326\n",
      "Independent (H0 holds true)\n"
     ]
    }
   ],
   "source": [
    "#H0 is that the attributes are completely independent\n",
    "# defining the table\n",
    "data = pd.crosstab(dfcategorical.subscribed,dfcategorical.job)\n",
    "print(data)\n",
    "stat, p, dof, expected = chi2_contingency(data)\n",
    "# interpret p-value\n",
    "alpha = 0.05\n",
    "print(\"p value is \" + str(p))\n",
    "if p <= alpha:\n",
    "    print('Dependent (reject H0)')\n",
    "else:\n",
    "    print('Independent (H0 holds true)')"
   ]
  },
  {
   "cell_type": "markdown",
   "metadata": {},
   "source": [
    "* P-value is greater than alpha (0.05). The known/unknown status of the job attribute is related to the outcome (subscribed), so discarding the rows with the null values should have a large impact on the model"
   ]
  },
  {
   "cell_type": "markdown",
   "metadata": {},
   "source": [
    "### Chi-Square for subscribed and Unknown Values of Marital"
   ]
  },
  {
   "cell_type": "code",
   "execution_count": 113,
   "metadata": {},
   "outputs": [],
   "source": [
    "dfcategorical['marital'] = np.where(test_over['marital']=='unknown', 'unknown', 'known')"
   ]
  },
  {
   "cell_type": "code",
   "execution_count": 114,
   "metadata": {},
   "outputs": [
    {
     "data": {
      "text/plain": [
       "married     42242\n",
       "single      22703\n",
       "divorced     7968\n",
       "unknown       183\n",
       "Name: marital, dtype: int64"
      ]
     },
     "execution_count": 114,
     "metadata": {},
     "output_type": "execute_result"
    }
   ],
   "source": [
    "test_over.marital.value_counts()"
   ]
  },
  {
   "cell_type": "code",
   "execution_count": 115,
   "metadata": {},
   "outputs": [
    {
     "data": {
      "text/plain": [
       "known      72913\n",
       "unknown      183\n",
       "Name: marital, dtype: int64"
      ]
     },
     "execution_count": 115,
     "metadata": {},
     "output_type": "execute_result"
    }
   ],
   "source": [
    "dfcategorical.marital.value_counts()"
   ]
  },
  {
   "cell_type": "code",
   "execution_count": 116,
   "metadata": {},
   "outputs": [
    {
     "name": "stdout",
     "output_type": "stream",
     "text": [
      "marital     known  unknown\n",
      "subscribed                \n",
      "0           36480       68\n",
      "1           36433      115\n",
      "p value is 0.0006624103950122433\n",
      "Dependent (reject H0)\n"
     ]
    }
   ],
   "source": [
    "#H0 is that the attributes are completely independent\n",
    "# defining the table\n",
    "data = pd.crosstab(dfcategorical.subscribed,dfcategorical.marital)\n",
    "print(data)\n",
    "stat, p, dof, expected = chi2_contingency(data)\n",
    "# interpret p-value\n",
    "alpha = 0.05\n",
    "print(\"p value is \" + str(p))\n",
    "if p <= alpha:\n",
    "    print('Dependent (reject H0)')\n",
    "else:\n",
    "    print('Independent (H0 holds true)')"
   ]
  },
  {
   "cell_type": "markdown",
   "metadata": {},
   "source": [
    "* P-value is less than alpha (0.05). The unknown status of the marital status attribute is related to the outcome (subscribed), so the rows with the null values should **not** be deleted"
   ]
  },
  {
   "cell_type": "markdown",
   "metadata": {},
   "source": [
    "### Chi-Square for subscribed and Unknown Values of Education"
   ]
  },
  {
   "cell_type": "code",
   "execution_count": 117,
   "metadata": {},
   "outputs": [],
   "source": [
    "dfcategorical['education'] = np.where(test_over['education']=='unknown', 'unknown', 'known')"
   ]
  },
  {
   "cell_type": "code",
   "execution_count": 118,
   "metadata": {},
   "outputs": [
    {
     "name": "stdout",
     "output_type": "stream",
     "text": [
      "education   known  unknown\n",
      "subscribed                \n",
      "0           35068     1480\n",
      "1           34622     1926\n",
      "p value is 5.7611933724107915e-15\n",
      "Dependent (reject H0)\n"
     ]
    }
   ],
   "source": [
    "#H0 is that the attributes are completely independent\n",
    "# defining the table\n",
    "data = pd.crosstab(dfcategorical.subscribed,dfcategorical.education)\n",
    "print(data)\n",
    "stat, p, dof, expected = chi2_contingency(data)\n",
    "# interpret p-value\n",
    "alpha = 0.05\n",
    "print(\"p value is \" + str(p))\n",
    "if p <= alpha:\n",
    "    print('Dependent (reject H0)')\n",
    "else:\n",
    "    print('Independent (H0 holds true)')"
   ]
  },
  {
   "cell_type": "markdown",
   "metadata": {},
   "source": [
    "* P-value is less than alpha (0.05). The unknown status of the education attribute is related to the outcome (subscribed) so the rows with the null values should  be deleted"
   ]
  },
  {
   "cell_type": "markdown",
   "metadata": {},
   "source": [
    "### Chi-Square for subscribed and Unknown Values of Default"
   ]
  },
  {
   "cell_type": "code",
   "execution_count": 119,
   "metadata": {},
   "outputs": [],
   "source": [
    "dfcategorical['default'] = np.where(test_over['default']=='unknown', 'unknown', 'known')"
   ]
  },
  {
   "cell_type": "code",
   "execution_count": 120,
   "metadata": {},
   "outputs": [
    {
     "name": "stdout",
     "output_type": "stream",
     "text": [
      "default     known  unknown\n",
      "subscribed                \n",
      "0           28394     8154\n",
      "1           33089     3459\n",
      "p value is 0.0\n",
      "Dependent (reject H0)\n"
     ]
    }
   ],
   "source": [
    "#H0 is that the attributes are completely independent\n",
    "# defining the table\n",
    "data = pd.crosstab(dfcategorical.subscribed,dfcategorical.default)\n",
    "print(data)\n",
    "stat, p, dof, expected = chi2_contingency(data)\n",
    "# interpret p-value\n",
    "alpha = 0.05\n",
    "print(\"p value is \" + str(p))\n",
    "if p <= alpha:\n",
    "    print('Dependent (reject H0)')\n",
    "else:\n",
    "    print('Independent (H0 holds true)')"
   ]
  },
  {
   "cell_type": "markdown",
   "metadata": {},
   "source": [
    "* P-value is less than alpha (0.05). The unknown status of the default attribute is related to the outcome (subscribed) so the rows with the null values should **not** be deleted"
   ]
  },
  {
   "cell_type": "markdown",
   "metadata": {},
   "source": [
    "### Chi-Square for subscribed and Unknown Values of Housing"
   ]
  },
  {
   "cell_type": "code",
   "execution_count": 121,
   "metadata": {},
   "outputs": [],
   "source": [
    "dfcategorical['housing'] = np.where(test_over['housing']=='unknown', 'unknown', 'known')"
   ]
  },
  {
   "cell_type": "code",
   "execution_count": 122,
   "metadata": {},
   "outputs": [
    {
     "name": "stdout",
     "output_type": "stream",
     "text": [
      "housing     known  unknown\n",
      "subscribed                \n",
      "0           35665      883\n",
      "1           35685      863\n",
      "p value is 0.6453462919527029\n",
      "Independent (H0 holds true)\n"
     ]
    }
   ],
   "source": [
    "#H0 is that the attributes are completely independent\n",
    "# defining the table\n",
    "data = pd.crosstab(dfcategorical.subscribed,dfcategorical.housing)\n",
    "print(data)\n",
    "stat, p, dof, expected = chi2_contingency(data)\n",
    "# interpret p-value\n",
    "alpha = 0.05\n",
    "print(\"p value is \" + str(p))\n",
    "if p <= alpha:\n",
    "    print('Dependent (reject H0)')\n",
    "else:\n",
    "    print('Independent (H0 holds true)')"
   ]
  },
  {
   "cell_type": "markdown",
   "metadata": {},
   "source": [
    "* P-value is greater than alpha (0.05). The unknown status of the housing attribute is related to the outcome (subscribed) so the rows with the null values should **not** be deleted"
   ]
  },
  {
   "cell_type": "markdown",
   "metadata": {},
   "source": [
    "### Chi- Square for subscribed and Unknown Values of Loan"
   ]
  },
  {
   "cell_type": "code",
   "execution_count": 123,
   "metadata": {},
   "outputs": [],
   "source": [
    "dfcategorical['loan'] = np.where(test_over['loan']=='unknown', 'unknown', 'known')"
   ]
  },
  {
   "cell_type": "code",
   "execution_count": 124,
   "metadata": {},
   "outputs": [
    {
     "name": "stdout",
     "output_type": "stream",
     "text": [
      "loan        known  unknown\n",
      "subscribed                \n",
      "0           35665      883\n",
      "1           35685      863\n",
      "p value is 0.6453462919527029\n",
      "Independent (H0 holds true)\n"
     ]
    }
   ],
   "source": [
    "#H0 is that the attributes are completely independent\n",
    "# defining the table\n",
    "data = pd.crosstab(dfcategorical.subscribed,dfcategorical.loan)\n",
    "print(data)\n",
    "stat, p, dof, expected = chi2_contingency(data)\n",
    "# interpret p-value\n",
    "alpha = 0.05\n",
    "print(\"p value is \" + str(p))\n",
    "if p <= alpha:\n",
    "    print('Dependent (reject H0)')\n",
    "else:\n",
    "    print('Independent (H0 holds true)')"
   ]
  },
  {
   "cell_type": "markdown",
   "metadata": {},
   "source": [
    "* P-value is greater than alpha (0.05). The unknown status of the housing attribute is related to the outcome (subscribed) so the rows with the null values should **not** be deleted"
   ]
  },
  {
   "cell_type": "markdown",
   "metadata": {},
   "source": [
    "## Feature Retention"
   ]
  },
  {
   "cell_type": "markdown",
   "metadata": {},
   "source": [
    "### Variables to be removed\n",
    "* **Housing and Loan** - When the Chi-Square test was performed to compare each of these variables to the outcome (y), it was determined that both variables are independent of y. Removing them will not have a large impact on the accuracy of the model (see below for Chi-sqaure results).\n",
    "* **Duration** - Duration of the call can not be used in the model for prediction outcomes, because the duration of the call will not be known until after the call is complete\n",
    "* **pdays** - The value \"999\" was used in the pdays columns for all scenarios wher a customer was not previously contacted, which will impact the model. Other features such as \"Campaign\" and \"Previous\" indicate if a customer was previously contacted, so pdays is not necessary"
   ]
  },
  {
   "cell_type": "markdown",
   "metadata": {},
   "source": [
    "### New Variables Created\n",
    "* **Has Loan** - Housing and loan will be removed, and a new variable will be created to combine them. The new variable will be \"Has Loan\" which will have a value of 1 if  the customer has either a Housing loan or Personal loan, and a value of 0 if the customer has no loans\n",
    "* **Education** Compression - The education levels of basic.4y, basic.6y and basic.9y have been converged into one-single category called basic"
   ]
  },
  {
   "cell_type": "markdown",
   "metadata": {},
   "source": [
    "### Handling Null Variables\n",
    "* The null variables will \"job\", \"marital\", \"default\", and \"education\" will be handled by keeping an \"unknown\" category for each of the variables.  After performing the chi-square there appears to be a relationship between the unknown values and the outcome (y), so the rows with null values for those attributes should not be deleted. The \"unknown\" category for \"Has Loan\" will be kept as well."
   ]
  },
  {
   "cell_type": "code",
   "execution_count": 125,
   "metadata": {},
   "outputs": [],
   "source": [
    "df1_data.isnull().sum()\n",
    "\n",
    "df1_data= df1_data.drop(['housing','loan','contact', 'month','day_of_week','duration','pdays','has_default'],axis=1)\n"
   ]
  },
  {
   "cell_type": "code",
   "execution_count": 126,
   "metadata": {},
   "outputs": [],
   "source": [
    "# grouping different basic education into single group\n",
    "df1_data.education.fillna('unknown', inplace=True)\n",
    "df1_data['education'] = np.where((df1_data[\"education\"].str.startswith('basic')),'basic',df1_data['education'])\n",
    "\n",
    "df1_data['education'] = df1_data['education'].replace('unknown',np.nan)\n"
   ]
  },
  {
   "cell_type": "markdown",
   "metadata": {},
   "source": [
    "### Train - Test Split:\n",
    "* Stratifying the data and allocating 80-20% for Train-Test, respectively."
   ]
  },
  {
   "cell_type": "code",
   "execution_count": 127,
   "metadata": {},
   "outputs": [
    {
     "name": "stdout",
     "output_type": "stream",
     "text": [
      "<class 'pandas.core.frame.DataFrame'>\n",
      "Int64Index: 73096 entries, 30146 to 41187\n",
      "Data columns (total 14 columns):\n",
      " #   Column          Non-Null Count  Dtype  \n",
      "---  ------          --------------  -----  \n",
      " 0   age             73096 non-null  int64  \n",
      " 1   job             72476 non-null  object \n",
      " 2   marital         72913 non-null  object \n",
      " 3   education       69690 non-null  object \n",
      " 4   default         61483 non-null  object \n",
      " 5   campaign        73096 non-null  int64  \n",
      " 6   previous        73096 non-null  int64  \n",
      " 7   poutcome        73096 non-null  object \n",
      " 8   emp.var.rate    73096 non-null  float64\n",
      " 9   cons.price.idx  73096 non-null  float64\n",
      " 10  cons.conf.idx   73096 non-null  float64\n",
      " 11  euribor3m       73096 non-null  float64\n",
      " 12  nr.employed     73096 non-null  float64\n",
      " 13  has_loan        73096 non-null  int32  \n",
      "dtypes: float64(5), int32(1), int64(3), object(5)\n",
      "memory usage: 8.1+ MB\n"
     ]
    }
   ],
   "source": [
    "from sklearn.model_selection import train_test_split\n",
    "X = df1_data.drop(['subscribed'], axis=1)\n",
    "y = df1_data['subscribed']\n",
    "\n",
    "X.info()\n",
    "\n",
    "#X_train, X_test, y_train, y_test = train_test_split(X, y, stratify=df_data_na['subscribed'], test_size=0.2)\n",
    "X_train, X_test, y_train, y_test = train_test_split(X, y, test_size=0.2)"
   ]
  },
  {
   "cell_type": "markdown",
   "metadata": {},
   "source": [
    "## Pipeline"
   ]
  },
  {
   "cell_type": "code",
   "execution_count": 128,
   "metadata": {},
   "outputs": [
    {
     "name": "stdout",
     "output_type": "stream",
     "text": [
      "<class 'pandas.core.frame.DataFrame'>\n",
      "Int64Index: 73096 entries, 30146 to 41187\n",
      "Data columns (total 15 columns):\n",
      " #   Column          Non-Null Count  Dtype  \n",
      "---  ------          --------------  -----  \n",
      " 0   age             73096 non-null  int64  \n",
      " 1   job             72476 non-null  object \n",
      " 2   marital         72913 non-null  object \n",
      " 3   education       69690 non-null  object \n",
      " 4   default         61483 non-null  object \n",
      " 5   campaign        73096 non-null  int64  \n",
      " 6   previous        73096 non-null  int64  \n",
      " 7   poutcome        73096 non-null  object \n",
      " 8   emp.var.rate    73096 non-null  float64\n",
      " 9   cons.price.idx  73096 non-null  float64\n",
      " 10  cons.conf.idx   73096 non-null  float64\n",
      " 11  euribor3m       73096 non-null  float64\n",
      " 12  nr.employed     73096 non-null  float64\n",
      " 13  subscribed      73096 non-null  int32  \n",
      " 14  has_loan        73096 non-null  int32  \n",
      "dtypes: float64(5), int32(2), int64(3), object(5)\n",
      "memory usage: 8.4+ MB\n"
     ]
    }
   ],
   "source": [
    "df1_data.columns\n",
    "df1_data.info()"
   ]
  },
  {
   "cell_type": "code",
   "execution_count": 129,
   "metadata": {},
   "outputs": [],
   "source": [
    "num_features = ['age', 'campaign', 'previous','emp.var.rate', 'cons.price.idx', \n",
    "                        'cons.conf.idx', 'euribor3m', 'nr.employed', 'has_loan']\n",
    "cat_features = ['job', 'marital', 'education','poutcome','default']"
   ]
  },
  {
   "cell_type": "code",
   "execution_count": 130,
   "metadata": {},
   "outputs": [],
   "source": [
    "from sklearn.pipeline import Pipeline\n",
    "from sklearn.impute import SimpleImputer\n",
    "from sklearn.preprocessing import StandardScaler, OneHotEncoder\n",
    "\n",
    "num_pipeline = Pipeline(\n",
    "    steps=[\n",
    "       # ('num_imputer', SimpleImputer()),  # we will tune differet strategies later\n",
    "        ('scaler', StandardScaler()),\n",
    "        ]\n",
    ")\n",
    "\n",
    "\n",
    "cat_pipeline = Pipeline(\n",
    "    steps=[\n",
    "        ('cat_imputer', SimpleImputer(strategy='most_frequent')),\n",
    "        ('onehot', OneHotEncoder()),\n",
    "    ]\n",
    ")\n",
    "\n",
    "# Assign features to the pipelines and Combine two pipelines to form the preprocessor\n",
    "from sklearn.compose import ColumnTransformer\n",
    "\n",
    "preprocessor = ColumnTransformer(\n",
    "    transformers=[\n",
    "        ('num_pipeline', num_pipeline, num_features),\n",
    "        ('cat_pipeline', cat_pipeline, cat_features),\n",
    "    ]\n",
    ")"
   ]
  },
  {
   "cell_type": "markdown",
   "metadata": {},
   "source": [
    "## Decision Tree Model - Training, Testing & Evaluation\n",
    "DecisionTree Classifier is used in the pipeline to train the model\n",
    "Three different parameters are used: \n",
    "* criterion to measure quality of the split (gini and entropy for the information gain)\n",
    "* max depth - the maxinum depth of the tree (3,4,5,6,7)\n",
    "* min sample split - the minimum number of samples required to split an internal node(10,20)"
   ]
  },
  {
   "cell_type": "code",
   "execution_count": 131,
   "metadata": {},
   "outputs": [],
   "source": [
    "# Specify the model to use, which is DecisionTreeClassifier\n",
    "# Make a full pipeline by combining preprocessor and the model\n",
    "from sklearn.tree import DecisionTreeClassifier\n",
    "\n",
    "pipeline_dt = Pipeline(\n",
    "    steps=[\n",
    "        ('preprocessor', preprocessor),\n",
    "        ('clf_dt', DecisionTreeClassifier(random_state=42)),\n",
    "    ]\n",
    ")"
   ]
  },
  {
   "cell_type": "code",
   "execution_count": 132,
   "metadata": {},
   "outputs": [],
   "source": [
    "# we show how to use GridSearch with K-fold cross validation (K=10) to fine tune the model\n",
    "# we use the accuracy as the scoring metric with training score return_train_score=True\n",
    "from sklearn.model_selection import GridSearchCV\n",
    "\n",
    "\n",
    "param_grid_dt = [\n",
    "    {\n",
    "        'clf_dt__criterion': ['gini', 'entropy'], \n",
    "        'clf_dt__max_depth': [12, 20, 30,35],\n",
    "        'clf_dt__min_samples_split': [10, 20, 30, 40],\n",
    "            \n",
    "            \n",
    "    }\n",
    "]\n",
    "\n",
    "# set up the grid search \n",
    "grid_search_dt = GridSearchCV(pipeline_dt, param_grid_dt, cv=10, scoring='accuracy')"
   ]
  },
  {
   "cell_type": "code",
   "execution_count": 133,
   "metadata": {},
   "outputs": [
    {
     "name": "stdout",
     "output_type": "stream",
     "text": [
      "Wall time: 12min 38s\n"
     ]
    },
    {
     "data": {
      "text/plain": [
       "GridSearchCV(cv=10,\n",
       "             estimator=Pipeline(steps=[('preprocessor',\n",
       "                                        ColumnTransformer(transformers=[('num_pipeline',\n",
       "                                                                         Pipeline(steps=[('scaler',\n",
       "                                                                                          StandardScaler())]),\n",
       "                                                                         ['age',\n",
       "                                                                          'campaign',\n",
       "                                                                          'previous',\n",
       "                                                                          'emp.var.rate',\n",
       "                                                                          'cons.price.idx',\n",
       "                                                                          'cons.conf.idx',\n",
       "                                                                          'euribor3m',\n",
       "                                                                          'nr.employed',\n",
       "                                                                          'has_loan']),\n",
       "                                                                        ('cat_pipeline',\n",
       "                                                                         Pipeline(steps=[('cat_imputer',\n",
       "                                                                                          SimpleImputer(strategy='most_frequent')),\n",
       "                                                                                         ('onehot',\n",
       "                                                                                          OneHotEncoder())]),\n",
       "                                                                         ['job',\n",
       "                                                                          'marital',\n",
       "                                                                          'education',\n",
       "                                                                          'poutcome',\n",
       "                                                                          'default'])])),\n",
       "                                       ('clf_dt', DecisionTreeClassifier())]),\n",
       "             param_grid=[{'clf_dt__criterion': ['gini', 'entropy'],\n",
       "                          'clf_dt__max_depth': [12, 20, 30, 35],\n",
       "                          'clf_dt__min_samples_split': [10, 20, 30, 40]}],\n",
       "             scoring='accuracy')"
      ]
     },
     "execution_count": 133,
     "metadata": {},
     "output_type": "execute_result"
    }
   ],
   "source": [
    "%%time\n",
    "grid_search_dt.fit(X_train, y_train)"
   ]
  },
  {
   "cell_type": "code",
   "execution_count": 134,
   "metadata": {},
   "outputs": [
    {
     "data": {
      "text/plain": [
       "{'clf_dt__criterion': 'entropy',\n",
       " 'clf_dt__max_depth': 35,\n",
       " 'clf_dt__min_samples_split': 10}"
      ]
     },
     "execution_count": 134,
     "metadata": {},
     "output_type": "execute_result"
    }
   ],
   "source": [
    "# check the best performing parameter combination\n",
    "grid_search_dt.best_params_"
   ]
  },
  {
   "cell_type": "code",
   "execution_count": 135,
   "metadata": {},
   "outputs": [
    {
     "data": {
      "text/plain": [
       "['mean_fit_time',\n",
       " 'mean_score_time',\n",
       " 'mean_test_score',\n",
       " 'param_clf_dt__criterion',\n",
       " 'param_clf_dt__max_depth',\n",
       " 'param_clf_dt__min_samples_split',\n",
       " 'params',\n",
       " 'rank_test_score',\n",
       " 'split0_test_score',\n",
       " 'split1_test_score',\n",
       " 'split2_test_score',\n",
       " 'split3_test_score',\n",
       " 'split4_test_score',\n",
       " 'split5_test_score',\n",
       " 'split6_test_score',\n",
       " 'split7_test_score',\n",
       " 'split8_test_score',\n",
       " 'split9_test_score',\n",
       " 'std_fit_time',\n",
       " 'std_score_time',\n",
       " 'std_test_score']"
      ]
     },
     "execution_count": 135,
     "metadata": {},
     "output_type": "execute_result"
    }
   ],
   "source": [
    "# build-in CV results keys\n",
    "sorted(grid_search_dt.cv_results_.keys())"
   ]
  },
  {
   "cell_type": "code",
   "execution_count": 136,
   "metadata": {
    "tags": []
   },
   "outputs": [
    {
     "data": {
      "text/plain": [
       "array([0.77337694, 0.77089727, 0.76836633, 0.76627998, 0.84159294,\n",
       "       0.82043903, 0.80670694, 0.79713023, 0.89585447, 0.85778772,\n",
       "       0.83518009, 0.81913925, 0.90112166, 0.86090007, 0.83685602,\n",
       "       0.82028505, 0.77024749, 0.76790461, 0.76628001, 0.76434754,\n",
       "       0.82664673, 0.81093097, 0.80099524, 0.79235915, 0.89041636,\n",
       "       0.8572234 , 0.83642847, 0.8203706 , 0.90248983, 0.86433752,\n",
       "       0.8416101 , 0.82394473])"
      ]
     },
     "execution_count": 136,
     "metadata": {},
     "output_type": "execute_result"
    }
   ],
   "source": [
    "# test score for the 20 decision tree models\n",
    "grid_search_dt.cv_results_['mean_test_score']"
   ]
  },
  {
   "cell_type": "code",
   "execution_count": 137,
   "metadata": {},
   "outputs": [
    {
     "data": {
      "text/plain": [
       "0.9024898301583214"
      ]
     },
     "execution_count": 137,
     "metadata": {},
     "output_type": "execute_result"
    }
   ],
   "source": [
    "# best decistion tree model test score\n",
    "grid_search_dt.best_score_"
   ]
  },
  {
   "cell_type": "code",
   "execution_count": 163,
   "metadata": {},
   "outputs": [
    {
     "data": {
      "text/plain": [
       "Pipeline(steps=[('preprocessor',\n",
       "                 ColumnTransformer(transformers=[('num_pipeline',\n",
       "                                                  Pipeline(steps=[('scaler',\n",
       "                                                                   StandardScaler())]),\n",
       "                                                  ['age', 'campaign',\n",
       "                                                   'previous', 'emp.var.rate',\n",
       "                                                   'cons.price.idx',\n",
       "                                                   'cons.conf.idx', 'euribor3m',\n",
       "                                                   'nr.employed', 'has_loan']),\n",
       "                                                 ('cat_pipeline',\n",
       "                                                  Pipeline(steps=[('cat_imputer',\n",
       "                                                                   SimpleImputer(strategy='most_frequent')),\n",
       "                                                                  ('onehot',\n",
       "                                                                   OneHotEncoder())]),\n",
       "                                                  ['job', 'marital',\n",
       "                                                   'education', 'poutcome',\n",
       "                                                   'default'])])),\n",
       "                ('clf_dt',\n",
       "                 DecisionTreeClassifier(criterion='entropy', max_depth=35,\n",
       "                                        min_samples_split=10))])"
      ]
     },
     "execution_count": 163,
     "metadata": {},
     "output_type": "execute_result"
    }
   ],
   "source": [
    "clf_best_dt = grid_search_dt.best_estimator_\n",
    "clf_best_dt"
   ]
  },
  {
   "cell_type": "code",
   "execution_count": 165,
   "metadata": {},
   "outputs": [
    {
     "name": "stdout",
     "output_type": "stream",
     "text": [
      "Accuracy Score DT : 0.9116963064295486\n",
      "Precision Score DT: 0.8726194980451507\n",
      "Recall Score DT : 0.9609722222222222\n",
      "F1 Score DT : 0.9146671954524422\n"
     ]
    }
   ],
   "source": [
    "y_pred = clf_best_dt.predict(X_test)\n",
    "\n",
    "# calculate accuracy, precision, recall, f1-score for Decision Tree\n",
    "\n",
    "from sklearn.metrics import accuracy_score, recall_score, precision_score, f1_score\n",
    "\n",
    "print(f'Accuracy Score DT : {accuracy_score(y_test, y_pred)}')\n",
    "print(f'Precision Score DT: {precision_score(y_test, y_pred)}')\n",
    "print(f'Recall Score DT : {recall_score(y_test, y_pred)}')\n",
    "print(f'F1 Score DT : {f1_score(y_test, y_pred)}')"
   ]
  },
  {
   "cell_type": "markdown",
   "metadata": {},
   "source": [
    "### Xgboost - Extreme Gradient Boosting \n",
    "XGBoost is an implementation of gradient boosted decision trees designed for speed and performance. Gradient Boosting is an approach where new models are created that predict the residuals or errors of prior models and then added together to make the final prediction. It is called gradient boosting because it uses a gradient descent algorithm to minimize the loss when adding new models.\n",
    "\n",
    "XGBClassifier is used to train the model with different parameters:\n",
    "\n",
    "* max_depth- Maximum tree depth for base learners\n",
    "* n_estimators parameters- Number of boosting rounds\n",
    "* objective as binary logistic- Specify the learning task and the corresponding learning objective\n",
    "* learning_rate- Boosting learning rate and different learning rates are used to tuning the model\n",
    "\n"
   ]
  },
  {
   "cell_type": "code",
   "execution_count": 155,
   "metadata": {},
   "outputs": [],
   "source": [
    "import xgboost\n",
    "from xgboost import XGBClassifier\n",
    "# xg pipeline\n",
    "pipeline_xg = Pipeline([\n",
    "     ('preprocessor', preprocessor),\n",
    "     ('clf_xg', XGBClassifier(objective=\"binary:logistic\",verbosity = 0,use_label_encoder=False, random_state=42)),\n",
    " ])\n",
    "\n",
    "\n",
    "param_grid_xg = [\n",
    "     {\n",
    "         'clf_xg__max_depth': [5],  \n",
    "         'clf_xg__n_estimators': [100],\n",
    "         'clf_xg__learning_rate': [0.1],\n",
    "     }\n",
    " ]\n",
    "\n",
    "# # set up the grid search \n",
    "grid_search_xg = GridSearchCV(pipeline_xg, param_grid_xg, cv=10, scoring='accuracy')"
   ]
  },
  {
   "cell_type": "code",
   "execution_count": 156,
   "metadata": {},
   "outputs": [
    {
     "name": "stdout",
     "output_type": "stream",
     "text": [
      "Wall time: 1min 23s\n"
     ]
    },
    {
     "data": {
      "text/plain": [
       "GridSearchCV(cv=10,\n",
       "             estimator=Pipeline(steps=[('preprocessor',\n",
       "                                        ColumnTransformer(transformers=[('num_pipeline',\n",
       "                                                                         Pipeline(steps=[('scaler',\n",
       "                                                                                          StandardScaler())]),\n",
       "                                                                         ['age',\n",
       "                                                                          'campaign',\n",
       "                                                                          'previous',\n",
       "                                                                          'emp.var.rate',\n",
       "                                                                          'cons.price.idx',\n",
       "                                                                          'cons.conf.idx',\n",
       "                                                                          'euribor3m',\n",
       "                                                                          'nr.employed',\n",
       "                                                                          'has_loan']),\n",
       "                                                                        ('cat_pipeline',\n",
       "                                                                         Pipeline(steps=[('cat_imputer',\n",
       "                                                                                          SimpleImputer(strategy='most_fre...\n",
       "                                                      monotone_constraints=None,\n",
       "                                                      n_estimators=100,\n",
       "                                                      n_jobs=None,\n",
       "                                                      num_parallel_tree=None,\n",
       "                                                      random_state=42,\n",
       "                                                      reg_alpha=None,\n",
       "                                                      reg_lambda=None,\n",
       "                                                      scale_pos_weight=None,\n",
       "                                                      subsample=None,\n",
       "                                                      tree_method=None,\n",
       "                                                      use_label_encoder=False,\n",
       "                                                      validate_parameters=None,\n",
       "                                                      verbosity=0))]),\n",
       "             param_grid=[{'clf_xg__learning_rate': [0.1],\n",
       "                          'clf_xg__max_depth': [5],\n",
       "                          'clf_xg__n_estimators': [100]}],\n",
       "             scoring='accuracy')"
      ]
     },
     "execution_count": 156,
     "metadata": {},
     "output_type": "execute_result"
    }
   ],
   "source": [
    " %%time\n",
    " #train the model using the full pipeline\n",
    "grid_search_xg.fit(X_train, y_train)"
   ]
  },
  {
   "cell_type": "code",
   "execution_count": 157,
   "metadata": {},
   "outputs": [
    {
     "data": {
      "text/plain": [
       "{'clf_xg__learning_rate': 0.1,\n",
       " 'clf_xg__max_depth': 5,\n",
       " 'clf_xg__n_estimators': 100}"
      ]
     },
     "execution_count": 157,
     "metadata": {},
     "output_type": "execute_result"
    }
   ],
   "source": [
    "# # check the best performing parameter combination\n",
    "grid_search_xg.best_params_"
   ]
  },
  {
   "cell_type": "code",
   "execution_count": 158,
   "metadata": {},
   "outputs": [
    {
     "data": {
      "text/plain": [
       "['mean_fit_time',\n",
       " 'mean_score_time',\n",
       " 'mean_test_score',\n",
       " 'param_clf_xg__learning_rate',\n",
       " 'param_clf_xg__max_depth',\n",
       " 'param_clf_xg__n_estimators',\n",
       " 'params',\n",
       " 'rank_test_score',\n",
       " 'split0_test_score',\n",
       " 'split1_test_score',\n",
       " 'split2_test_score',\n",
       " 'split3_test_score',\n",
       " 'split4_test_score',\n",
       " 'split5_test_score',\n",
       " 'split6_test_score',\n",
       " 'split7_test_score',\n",
       " 'split8_test_score',\n",
       " 'split9_test_score',\n",
       " 'std_fit_time',\n",
       " 'std_score_time',\n",
       " 'std_test_score']"
      ]
     },
     "execution_count": 158,
     "metadata": {},
     "output_type": "execute_result"
    }
   ],
   "source": [
    "# # build-in CV results keys\n",
    "sorted(grid_search_xg.cv_results_.keys())"
   ]
  },
  {
   "cell_type": "code",
   "execution_count": 159,
   "metadata": {},
   "outputs": [
    {
     "data": {
      "text/plain": [
       "array([0.76056819])"
      ]
     },
     "execution_count": 159,
     "metadata": {},
     "output_type": "execute_result"
    }
   ],
   "source": [
    "# # test score for the 20 decision tree models\n",
    "grid_search_xg.cv_results_['mean_test_score']"
   ]
  },
  {
   "cell_type": "code",
   "execution_count": 160,
   "metadata": {},
   "outputs": [
    {
     "data": {
      "text/plain": [
       "0.7605681892359125"
      ]
     },
     "execution_count": 160,
     "metadata": {},
     "output_type": "execute_result"
    }
   ],
   "source": [
    "# # best decistion tree model test score\n",
    "grid_search_xg.best_score_"
   ]
  },
  {
   "cell_type": "code",
   "execution_count": 161,
   "metadata": {},
   "outputs": [
    {
     "data": {
      "text/plain": [
       "Pipeline(steps=[('preprocessor',\n",
       "                 ColumnTransformer(transformers=[('num_pipeline',\n",
       "                                                  Pipeline(steps=[('scaler',\n",
       "                                                                   StandardScaler())]),\n",
       "                                                  ['age', 'campaign',\n",
       "                                                   'previous', 'emp.var.rate',\n",
       "                                                   'cons.price.idx',\n",
       "                                                   'cons.conf.idx', 'euribor3m',\n",
       "                                                   'nr.employed', 'has_loan']),\n",
       "                                                 ('cat_pipeline',\n",
       "                                                  Pipeline(steps=[('cat_imputer',\n",
       "                                                                   SimpleImputer(strategy='most_frequent')),\n",
       "                                                                  ('onehot',\n",
       "                                                                   OneHotEnco...\n",
       "                               importance_type='gain',\n",
       "                               interaction_constraints='', learning_rate=0.1,\n",
       "                               max_delta_step=0, max_depth=5,\n",
       "                               min_child_weight=1, missing=nan,\n",
       "                               monotone_constraints='()', n_estimators=100,\n",
       "                               n_jobs=8, num_parallel_tree=1, random_state=42,\n",
       "                               reg_alpha=0, reg_lambda=1, scale_pos_weight=1,\n",
       "                               subsample=1, tree_method='exact',\n",
       "                               use_label_encoder=False, validate_parameters=1,\n",
       "                               verbosity=0))])"
      ]
     },
     "execution_count": 161,
     "metadata": {},
     "output_type": "execute_result"
    }
   ],
   "source": [
    "clf_best_xg = grid_search_xg.best_estimator_\n",
    "clf_best_xg"
   ]
  },
  {
   "cell_type": "code",
   "execution_count": 166,
   "metadata": {},
   "outputs": [
    {
     "name": "stdout",
     "output_type": "stream",
     "text": [
      "Accuracy Score XG: 0.7613543091655267\n",
      "Precision Score XG : 0.8236525379382522\n",
      "Recall Score XG : 0.6558333333333334\n",
      "F1 Score XG: 0.7302250057991186\n"
     ]
    }
   ],
   "source": [
    "y_pred = clf_best_xg.predict(X_test)\n",
    "\n",
    "# calculate accuracy, precision, recall, f1-score for XGBoost\n",
    "\n",
    "from sklearn.metrics import accuracy_score, recall_score, precision_score, f1_score\n",
    "\n",
    "print(f'Accuracy Score XG: {accuracy_score(y_test, y_pred)}')\n",
    "print(f'Precision Score XG : {precision_score(y_test, y_pred)}')\n",
    "print(f'Recall Score XG : {recall_score(y_test, y_pred)}')\n",
    "print(f'F1 Score XG: {f1_score(y_test, y_pred)}')"
   ]
  },
  {
   "cell_type": "markdown",
   "metadata": {},
   "source": [
    "### Logistic Regression chaining with Principal Component Analysis(PCA)\n",
    "The PCA does an unsupervised dimensionality reduction, while the logistic regression does the prediction.<br>\n",
    "The PCA converts data from high dimensional space to low dimensional space by selecting the most important attributes that capture maximum information about the dataset and logistic regression method is used to train the model.\n",
    "* The parameter of PCA:  \n",
    "  * n_components is number of components to keep and set to 10, 20 and 30\n",
    "* The paramters of logistic regression : \n",
    "  * solver is algorithm to use in the optimization problem and ‘lbfgs’ which handle multinomial loss is used.\n",
    "  * max_iter is maximum number of iterations taken for the solvers to converge and 1000 is used\n",
    "  * C is inverse of regularization strength. The higher values of C correspond to less regularization.\n"
   ]
  },
  {
   "cell_type": "code",
   "execution_count": 138,
   "metadata": {},
   "outputs": [],
   "source": [
    "from sklearn.linear_model import LogisticRegression\n",
    "from sklearn.decomposition import PCA\n",
    "# logistic regression pipeline\n",
    "C = np.logspace(-4, 4, 50)\n",
    "n_components = list(range(1,X_train.shape[1]+1,1))\n",
    "\n",
    "\n",
    "pipeline_log_reg = Pipeline([\n",
    "    ('preprocessor', preprocessor),\n",
    "    ('pca',PCA()),\n",
    "    ('log_reg', LogisticRegression(solver = 'lbfgs', max_iter=1000,random_state=42)),\n",
    " \n",
    "    \n",
    "])\n",
    "\n",
    "param_grid_log_reg = [\n",
    "    {\n",
    "        'pca__n_components': [10,20,30],\n",
    "        'log_reg__C': [0.001,0.01,0.1,1,10,100,1000], \n",
    "          \n",
    "    }\n",
    "]\n",
    "\n",
    "# set up the grid search \n",
    "grid_search_log_reg = GridSearchCV(pipeline_log_reg,param_grid_log_reg, cv=10, scoring='accuracy')\n"
   ]
  },
  {
   "cell_type": "code",
   "execution_count": 139,
   "metadata": {},
   "outputs": [
    {
     "name": "stdout",
     "output_type": "stream",
     "text": [
      "Wall time: 9min 50s\n"
     ]
    },
    {
     "data": {
      "text/plain": [
       "GridSearchCV(cv=10,\n",
       "             estimator=Pipeline(steps=[('preprocessor',\n",
       "                                        ColumnTransformer(transformers=[('num_pipeline',\n",
       "                                                                         Pipeline(steps=[('scaler',\n",
       "                                                                                          StandardScaler())]),\n",
       "                                                                         ['age',\n",
       "                                                                          'campaign',\n",
       "                                                                          'previous',\n",
       "                                                                          'emp.var.rate',\n",
       "                                                                          'cons.price.idx',\n",
       "                                                                          'cons.conf.idx',\n",
       "                                                                          'euribor3m',\n",
       "                                                                          'nr.employed',\n",
       "                                                                          'has_loan']),\n",
       "                                                                        ('cat_pipeline',\n",
       "                                                                         Pipeline(steps=[('cat_imputer',\n",
       "                                                                                          SimpleImputer(strategy='most_frequent')),\n",
       "                                                                                         ('onehot',\n",
       "                                                                                          OneHotEncoder())]),\n",
       "                                                                         ['job',\n",
       "                                                                          'marital',\n",
       "                                                                          'education',\n",
       "                                                                          'poutcome',\n",
       "                                                                          'default'])])),\n",
       "                                       ('pca', PCA()),\n",
       "                                       ('log_reg',\n",
       "                                        LogisticRegression(max_iter=1000))]),\n",
       "             param_grid=[{'log_reg__C': [0.001, 0.01, 0.1, 1, 10, 100, 1000],\n",
       "                          'pca__n_components': [10, 20, 30]}],\n",
       "             scoring='accuracy')"
      ]
     },
     "execution_count": 139,
     "metadata": {},
     "output_type": "execute_result"
    }
   ],
   "source": [
    "%%time\n",
    "grid_search_log_reg.fit(X_train, y_train)"
   ]
  },
  {
   "cell_type": "code",
   "execution_count": 140,
   "metadata": {},
   "outputs": [
    {
     "data": {
      "text/plain": [
       "{'log_reg__C': 0.1, 'pca__n_components': 30}"
      ]
     },
     "execution_count": 140,
     "metadata": {},
     "output_type": "execute_result"
    }
   ],
   "source": [
    "# check  the best performing parameter combination\n",
    "grid_search_log_reg.best_params_"
   ]
  },
  {
   "cell_type": "code",
   "execution_count": 141,
   "metadata": {},
   "outputs": [
    {
     "data": {
      "text/plain": [
       "['mean_fit_time',\n",
       " 'mean_score_time',\n",
       " 'mean_test_score',\n",
       " 'param_log_reg__C',\n",
       " 'param_pca__n_components',\n",
       " 'params',\n",
       " 'rank_test_score',\n",
       " 'split0_test_score',\n",
       " 'split1_test_score',\n",
       " 'split2_test_score',\n",
       " 'split3_test_score',\n",
       " 'split4_test_score',\n",
       " 'split5_test_score',\n",
       " 'split6_test_score',\n",
       " 'split7_test_score',\n",
       " 'split8_test_score',\n",
       " 'split9_test_score',\n",
       " 'std_fit_time',\n",
       " 'std_score_time',\n",
       " 'std_test_score']"
      ]
     },
     "execution_count": 141,
     "metadata": {},
     "output_type": "execute_result"
    }
   ],
   "source": [
    "# build-in CV results keys\n",
    "sorted(grid_search_log_reg.cv_results_.keys())"
   ]
  },
  {
   "cell_type": "code",
   "execution_count": 142,
   "metadata": {},
   "outputs": [
    {
     "data": {
      "text/plain": [
       "array([0.71542161, 0.7166529 , 0.71689231, 0.71574653, 0.72470743,\n",
       "       0.72552827, 0.71566102, 0.72409181, 0.72669116, 0.71566102,\n",
       "       0.72421152, 0.72663984, 0.71566102, 0.72429703, 0.72658854,\n",
       "       0.71566102, 0.72427993, 0.72658854, 0.71566102, 0.72427993,\n",
       "       0.72660564])"
      ]
     },
     "execution_count": 142,
     "metadata": {},
     "output_type": "execute_result"
    }
   ],
   "source": [
    "# test score for the 20 decision tree models\n",
    "grid_search_log_reg.cv_results_['mean_test_score']"
   ]
  },
  {
   "cell_type": "code",
   "execution_count": 143,
   "metadata": {},
   "outputs": [
    {
     "data": {
      "text/plain": [
       "0.7266911551213491"
      ]
     },
     "execution_count": 143,
     "metadata": {},
     "output_type": "execute_result"
    }
   ],
   "source": [
    "# best decistion tree model test score\n",
    "grid_search_log_reg.best_score_"
   ]
  },
  {
   "cell_type": "code",
   "execution_count": 167,
   "metadata": {},
   "outputs": [
    {
     "data": {
      "text/plain": [
       "Pipeline(steps=[('preprocessor',\n",
       "                 ColumnTransformer(transformers=[('num_pipeline',\n",
       "                                                  Pipeline(steps=[('scaler',\n",
       "                                                                   StandardScaler())]),\n",
       "                                                  ['age', 'campaign',\n",
       "                                                   'previous', 'emp.var.rate',\n",
       "                                                   'cons.price.idx',\n",
       "                                                   'cons.conf.idx', 'euribor3m',\n",
       "                                                   'nr.employed', 'has_loan']),\n",
       "                                                 ('cat_pipeline',\n",
       "                                                  Pipeline(steps=[('cat_imputer',\n",
       "                                                                   SimpleImputer(strategy='most_frequent')),\n",
       "                                                                  ('onehot',\n",
       "                                                                   OneHotEncoder())]),\n",
       "                                                  ['job', 'marital',\n",
       "                                                   'education', 'poutcome',\n",
       "                                                   'default'])])),\n",
       "                ('pca', PCA(n_components=30)),\n",
       "                ('log_reg', LogisticRegression(C=0.1, max_iter=1000))])"
      ]
     },
     "execution_count": 167,
     "metadata": {},
     "output_type": "execute_result"
    }
   ],
   "source": [
    "clf_best_log_reg = grid_search_log_reg.best_estimator_\n",
    "clf_best_log_reg"
   ]
  },
  {
   "cell_type": "code",
   "execution_count": 168,
   "metadata": {},
   "outputs": [
    {
     "name": "stdout",
     "output_type": "stream",
     "text": [
      "Accuracy Score lg: 0.7305745554035568\n",
      "Precision Score lg: 0.7480602464628023\n",
      "Recall Score lg: 0.6829166666666666\n",
      "F1 Score lg: 0.7140056632541929\n"
     ]
    }
   ],
   "source": [
    "y_pred = clf_best_log_reg.predict(X_test)\n",
    "\n",
    "# calculate accuracy, precision, recall, f1-score for logistic regression\n",
    "\n",
    "from sklearn.metrics import accuracy_score, recall_score, precision_score, f1_score\n",
    "\n",
    "print(f'Accuracy Score lg: {accuracy_score(y_test, y_pred)}')\n",
    "print(f'Precision Score lg: {precision_score(y_test, y_pred)}')\n",
    "print(f'Recall Score lg: {recall_score(y_test, y_pred)}')\n",
    "print(f'F1 Score lg: {f1_score(y_test, y_pred)}')"
   ]
  },
  {
   "cell_type": "markdown",
   "metadata": {},
   "source": [
    "### Random Forest\n",
    "\n",
    "A random forest is a meta estimator that fits a number of decision tree classifiers on various sub-samples of the dataset and uses averaging to improve the predictive accuracy and control over-fitting. <br>\n",
    "<br>\n",
    "Parameters used:\n",
    "* Ctiterion - gini and entropy are used to measure the quality of split\n",
    "* n_estimators - the number of trees in a forest\n",
    "* max_depth- the maximum depth of a tree\n",
    "* min_samples_split - the minimum number of samples required to split an internal node\n"
   ]
  },
  {
   "cell_type": "code",
   "execution_count": 189,
   "metadata": {
    "tags": []
   },
   "outputs": [],
   "source": [
    "# random forest classifer\n",
    "from sklearn.ensemble import RandomForestClassifier\n",
    "\n",
    "# rf pipeline\n",
    "pipeline_rf = Pipeline([\n",
    "    ('preprocessor', preprocessor),\n",
    "    ('clf_rf', RandomForestClassifier(random_state=42)),\n",
    "])\n",
    "\n",
    "# here we are trying 2x3 different rf models\n",
    "param_grid_rf = [\n",
    "    {\n",
    "        'clf_rf__criterion': ['entropy'], \n",
    "        'clf_rf__n_estimators': [150],\n",
    "        'clf_rf__min_samples_split': [10],\n",
    "        'clf_rf__max_depth': [35],\n",
    "       \n",
    "    }\n",
    "]\n",
    "\n",
    "# set up the grid search \n",
    "grid_search_rf = GridSearchCV(pipeline_rf, param_grid_rf, cv=10, scoring='accuracy')"
   ]
  },
  {
   "cell_type": "code",
   "execution_count": 190,
   "metadata": {},
   "outputs": [
    {
     "name": "stdout",
     "output_type": "stream",
     "text": [
      "Wall time: 2min 33s\n"
     ]
    },
    {
     "data": {
      "text/plain": [
       "GridSearchCV(cv=10,\n",
       "             estimator=Pipeline(steps=[('preprocessor',\n",
       "                                        ColumnTransformer(transformers=[('num_pipeline',\n",
       "                                                                         Pipeline(steps=[('scaler',\n",
       "                                                                                          StandardScaler())]),\n",
       "                                                                         ['age',\n",
       "                                                                          'campaign',\n",
       "                                                                          'previous',\n",
       "                                                                          'emp.var.rate',\n",
       "                                                                          'euribor3m',\n",
       "                                                                          'nr.employed',\n",
       "                                                                          'has_loan']),\n",
       "                                                                        ('cat_pipeline',\n",
       "                                                                         Pipeline(steps=[('cat_imputer',\n",
       "                                                                                          SimpleImputer(strategy='most_frequent')),\n",
       "                                                                                         ('onehot',\n",
       "                                                                                          OneHotEncoder())]),\n",
       "                                                                         ['job',\n",
       "                                                                          'marital',\n",
       "                                                                          'education',\n",
       "                                                                          'poutcome',\n",
       "                                                                          'default'])])),\n",
       "                                       ('clf_rf',\n",
       "                                        RandomForestClassifier(random_state=42))]),\n",
       "             param_grid=[{'clf_rf__criterion': ['entropy'],\n",
       "                          'clf_rf__max_depth': [35],\n",
       "                          'clf_rf__min_samples_split': [10],\n",
       "                          'clf_rf__n_estimators': [150]}],\n",
       "             scoring='accuracy')"
      ]
     },
     "execution_count": 190,
     "metadata": {},
     "output_type": "execute_result"
    }
   ],
   "source": [
    "%%time\n",
    "# train the model using the full pipeline\n",
    "grid_search_rf.fit(X_train, y_train)"
   ]
  },
  {
   "cell_type": "code",
   "execution_count": 191,
   "metadata": {},
   "outputs": [
    {
     "data": {
      "text/plain": [
       "{'clf_rf__criterion': 'entropy',\n",
       " 'clf_rf__max_depth': 35,\n",
       " 'clf_rf__min_samples_split': 10,\n",
       " 'clf_rf__n_estimators': 150}"
      ]
     },
     "execution_count": 191,
     "metadata": {},
     "output_type": "execute_result"
    }
   ],
   "source": [
    "grid_search_rf.best_params_"
   ]
  },
  {
   "cell_type": "code",
   "execution_count": 192,
   "metadata": {},
   "outputs": [
    {
     "name": "stdout",
     "output_type": "stream",
     "text": [
      "best dt score is:  0.9024898301583214\n",
      "best rf score is:  0.9218653116860235\n",
      "best xg score is:  0.7605681892359125\n",
      "best log_reg score is:  0.7266911551213491\n"
     ]
    }
   ],
   "source": [
    "# best test score\n",
    "print('best dt score is: ', grid_search_dt.best_score_)\n",
    "print('best rf score is: ', grid_search_rf.best_score_)\n",
    "print('best xg score is: ', grid_search_xg.best_score_)\n",
    "print('best log_reg score is: ', grid_search_log_reg.best_score_)"
   ]
  },
  {
   "cell_type": "code",
   "execution_count": 193,
   "metadata": {},
   "outputs": [
    {
     "data": {
      "text/plain": [
       "Pipeline(steps=[('preprocessor',\n",
       "                 ColumnTransformer(transformers=[('num_pipeline',\n",
       "                                                  Pipeline(steps=[('scaler',\n",
       "                                                                   StandardScaler())]),\n",
       "                                                  ['age', 'campaign',\n",
       "                                                   'previous', 'emp.var.rate',\n",
       "                                                   'euribor3m', 'nr.employed',\n",
       "                                                   'has_loan']),\n",
       "                                                 ('cat_pipeline',\n",
       "                                                  Pipeline(steps=[('cat_imputer',\n",
       "                                                                   SimpleImputer(strategy='most_frequent')),\n",
       "                                                                  ('onehot',\n",
       "                                                                   OneHotEncoder())]),\n",
       "                                                  ['job', 'marital',\n",
       "                                                   'education', 'poutcome',\n",
       "                                                   'default'])])),\n",
       "                ('clf_rf',\n",
       "                 RandomForestClassifier(criterion='entropy', max_depth=35,\n",
       "                                        min_samples_split=10, n_estimators=150,\n",
       "                                        random_state=42))])"
      ]
     },
     "execution_count": 193,
     "metadata": {},
     "output_type": "execute_result"
    }
   ],
   "source": [
    "# select the best model\n",
    "# the best parameters are shown, note SimpleImputer() implies that mean strategry is used\n",
    "clf_best = grid_search_rf.best_estimator_\n",
    "clf_best"
   ]
  },
  {
   "cell_type": "code",
   "execution_count": 194,
   "metadata": {},
   "outputs": [
    {
     "data": {
      "text/plain": [
       "Pipeline(steps=[('preprocessor',\n",
       "                 ColumnTransformer(transformers=[('num_pipeline',\n",
       "                                                  Pipeline(steps=[('scaler',\n",
       "                                                                   StandardScaler())]),\n",
       "                                                  ['age', 'campaign',\n",
       "                                                   'previous', 'emp.var.rate',\n",
       "                                                   'euribor3m', 'nr.employed',\n",
       "                                                   'has_loan']),\n",
       "                                                 ('cat_pipeline',\n",
       "                                                  Pipeline(steps=[('cat_imputer',\n",
       "                                                                   SimpleImputer(strategy='most_frequent')),\n",
       "                                                                  ('onehot',\n",
       "                                                                   OneHotEncoder())]),\n",
       "                                                  ['job', 'marital',\n",
       "                                                   'education', 'poutcome',\n",
       "                                                   'default'])])),\n",
       "                ('clf_rf',\n",
       "                 RandomForestClassifier(criterion='entropy', max_depth=35,\n",
       "                                        min_samples_split=10, n_estimators=150,\n",
       "                                        random_state=42))])"
      ]
     },
     "execution_count": 194,
     "metadata": {},
     "output_type": "execute_result"
    }
   ],
   "source": [
    "clf_best = grid_search_rf.best_estimator_\n",
    "clf_best"
   ]
  },
  {
   "cell_type": "code",
   "execution_count": 195,
   "metadata": {
    "tags": []
   },
   "outputs": [
    {
     "name": "stdout",
     "output_type": "stream",
     "text": [
      "Accuracy Score rf: 0.9311901504787962\n",
      "Precision Score rf: 0.8992008249548853\n",
      "Recall Score rf: 0.9688888888888889\n",
      "F1 Score rf: 0.9327450193876187\n"
     ]
    }
   ],
   "source": [
    "# final test on the testing set\n",
    "# To predict on new data: simply calling the predict method \n",
    "# the full pipeline steps will be applied to the testing set followed by the prediction\n",
    "y_pred = clf_best.predict(X_test)\n",
    "\n",
    "# calculate accuracy, precision, recall, f1-score\n",
    "# Note: y_test is the ground truth for the tesing set\n",
    "# we have similiar score for the testing set as the cross validation score - good\n",
    "from sklearn.metrics import accuracy_score, recall_score, precision_score, f1_score\n",
    "\n",
    "print(f'Accuracy Score rf: {accuracy_score(y_test, y_pred)}')\n",
    "print(f'Precision Score rf: {precision_score(y_test, y_pred)}')\n",
    "print(f'Recall Score rf: {recall_score(y_test, y_pred)}')\n",
    "print(f'F1 Score rf: {f1_score(y_test, y_pred)}')"
   ]
  },
  {
   "cell_type": "markdown",
   "metadata": {},
   "source": [
    "### Feature Importance"
   ]
  },
  {
   "cell_type": "code",
   "execution_count": 172,
   "metadata": {},
   "outputs": [
    {
     "data": {
      "text/plain": [
       "{'preprocessor': ColumnTransformer(transformers=[('num_pipeline',\n",
       "                                  Pipeline(steps=[('scaler', StandardScaler())]),\n",
       "                                  ['age', 'campaign', 'previous', 'emp.var.rate',\n",
       "                                   'cons.price.idx', 'cons.conf.idx',\n",
       "                                   'euribor3m', 'nr.employed', 'has_loan']),\n",
       "                                 ('cat_pipeline',\n",
       "                                  Pipeline(steps=[('cat_imputer',\n",
       "                                                   SimpleImputer(strategy='most_frequent')),\n",
       "                                                  ('onehot', OneHotEncoder())]),\n",
       "                                  ['job', 'marital', 'education', 'poutcome',\n",
       "                                   'default'])]),\n",
       " 'clf_rf': RandomForestClassifier(criterion='entropy', max_depth=35, min_samples_split=10,\n",
       "                        n_estimators=150)}"
      ]
     },
     "execution_count": 172,
     "metadata": {},
     "output_type": "execute_result"
    }
   ],
   "source": [
    "clf_best.named_steps"
   ]
  },
  {
   "cell_type": "code",
   "execution_count": 173,
   "metadata": {},
   "outputs": [
    {
     "data": {
      "text/plain": [
       "ColumnTransformer(transformers=[('num_pipeline',\n",
       "                                 Pipeline(steps=[('scaler', StandardScaler())]),\n",
       "                                 ['age', 'campaign', 'previous', 'emp.var.rate',\n",
       "                                  'cons.price.idx', 'cons.conf.idx',\n",
       "                                  'euribor3m', 'nr.employed', 'has_loan']),\n",
       "                                ('cat_pipeline',\n",
       "                                 Pipeline(steps=[('cat_imputer',\n",
       "                                                  SimpleImputer(strategy='most_frequent')),\n",
       "                                                 ('onehot', OneHotEncoder())]),\n",
       "                                 ['job', 'marital', 'education', 'poutcome',\n",
       "                                  'default'])])"
      ]
     },
     "execution_count": 173,
     "metadata": {},
     "output_type": "execute_result"
    }
   ],
   "source": [
    "clf_best.named_steps['preprocessor']"
   ]
  },
  {
   "cell_type": "code",
   "execution_count": 174,
   "metadata": {},
   "outputs": [
    {
     "data": {
      "text/plain": [
       "array([2.11667254e-01, 1.08300473e-01, 1.45406242e-02, 6.29835670e-02,\n",
       "       3.39714274e-02, 4.59666993e-02, 2.04940715e-01, 6.35732159e-02,\n",
       "       3.24377523e-02, 1.45739360e-02, 1.27638552e-02, 7.09792529e-03,\n",
       "       5.14012716e-03, 9.41850890e-03, 6.77500197e-03, 6.95735103e-03,\n",
       "       9.71380361e-03, 4.93611167e-03, 1.23625209e-02, 5.84415084e-03,\n",
       "       1.02231704e-02, 1.35533348e-02, 1.21526132e-02, 1.32950728e-02,\n",
       "       1.39632983e-02, 3.65876666e-04, 1.07161716e-02, 1.47551026e-02,\n",
       "       6.88184741e-03, 7.23781420e-03, 2.28794873e-02, 5.95188340e-06,\n",
       "       5.23869401e-06])"
      ]
     },
     "execution_count": 174,
     "metadata": {},
     "output_type": "execute_result"
    }
   ],
   "source": [
    "i = clf_best['clf_rf'].feature_importances_\n",
    "i"
   ]
  },
  {
   "cell_type": "code",
   "execution_count": 175,
   "metadata": {},
   "outputs": [
    {
     "data": {
      "text/plain": [
       "ColumnTransformer(transformers=[('num_pipeline',\n",
       "                                 Pipeline(steps=[('scaler', StandardScaler())]),\n",
       "                                 ['age', 'campaign', 'previous', 'emp.var.rate',\n",
       "                                  'cons.price.idx', 'cons.conf.idx',\n",
       "                                  'euribor3m', 'nr.employed', 'has_loan']),\n",
       "                                ('cat_pipeline',\n",
       "                                 Pipeline(steps=[('cat_imputer',\n",
       "                                                  SimpleImputer(strategy='most_frequent')),\n",
       "                                                 ('onehot', OneHotEncoder())]),\n",
       "                                 ['job', 'marital', 'education', 'poutcome',\n",
       "                                  'default'])])"
      ]
     },
     "execution_count": 175,
     "metadata": {},
     "output_type": "execute_result"
    }
   ],
   "source": [
    "# get columnTransformer\n",
    "clf_best[0] "
   ]
  },
  {
   "cell_type": "code",
   "execution_count": 176,
   "metadata": {},
   "outputs": [
    {
     "data": {
      "text/plain": [
       "[('num_pipeline',\n",
       "  Pipeline(steps=[('scaler', StandardScaler())]),\n",
       "  ['age',\n",
       "   'campaign',\n",
       "   'previous',\n",
       "   'emp.var.rate',\n",
       "   'cons.price.idx',\n",
       "   'cons.conf.idx',\n",
       "   'euribor3m',\n",
       "   'nr.employed',\n",
       "   'has_loan']),\n",
       " ('cat_pipeline',\n",
       "  Pipeline(steps=[('cat_imputer', SimpleImputer(strategy='most_frequent')),\n",
       "                  ('onehot', OneHotEncoder())]),\n",
       "  ['job', 'marital', 'education', 'poutcome', 'default'])]"
      ]
     },
     "execution_count": 176,
     "metadata": {},
     "output_type": "execute_result"
    }
   ],
   "source": [
    "clf_best[0].transformers_"
   ]
  },
  {
   "cell_type": "code",
   "execution_count": 177,
   "metadata": {},
   "outputs": [
    {
     "data": {
      "text/plain": [
       "['age',\n",
       " 'campaign',\n",
       " 'previous',\n",
       " 'emp.var.rate',\n",
       " 'cons.price.idx',\n",
       " 'cons.conf.idx',\n",
       " 'euribor3m',\n",
       " 'nr.employed',\n",
       " 'has_loan']"
      ]
     },
     "execution_count": 177,
     "metadata": {},
     "output_type": "execute_result"
    }
   ],
   "source": [
    "num_original_feature_names = clf_best[0].transformers_[0][2]\n",
    "num_original_feature_names"
   ]
  },
  {
   "cell_type": "code",
   "execution_count": 178,
   "metadata": {},
   "outputs": [
    {
     "data": {
      "text/plain": [
       "['job', 'marital', 'education', 'poutcome', 'default']"
      ]
     },
     "execution_count": 178,
     "metadata": {},
     "output_type": "execute_result"
    }
   ],
   "source": [
    "cat_original_feature_names = clf_best[0].transformers_[1][2]\n",
    "cat_original_feature_names"
   ]
  },
  {
   "cell_type": "code",
   "execution_count": 179,
   "metadata": {},
   "outputs": [
    {
     "data": {
      "text/plain": [
       "['job_admin.',\n",
       " 'job_blue-collar',\n",
       " 'job_entrepreneur',\n",
       " 'job_housemaid',\n",
       " 'job_management',\n",
       " 'job_retired',\n",
       " 'job_self-employed',\n",
       " 'job_services',\n",
       " 'job_student',\n",
       " 'job_technician',\n",
       " 'job_unemployed',\n",
       " 'marital_divorced',\n",
       " 'marital_married',\n",
       " 'marital_single',\n",
       " 'education_basic',\n",
       " 'education_high.school',\n",
       " 'education_illiterate',\n",
       " 'education_professional.course',\n",
       " 'education_university.degree',\n",
       " 'poutcome_failure',\n",
       " 'poutcome_nonexistent',\n",
       " 'poutcome_success',\n",
       " 'default_no',\n",
       " 'default_yes']"
      ]
     },
     "execution_count": 179,
     "metadata": {},
     "output_type": "execute_result"
    }
   ],
   "source": [
    "cat_new_feature_names = list(clf_best[0].transformers_[1][1]['onehot'].get_feature_names(cat_original_feature_names))\n",
    "cat_new_feature_names"
   ]
  },
  {
   "cell_type": "code",
   "execution_count": 180,
   "metadata": {},
   "outputs": [
    {
     "data": {
      "text/plain": [
       "['age',\n",
       " 'campaign',\n",
       " 'previous',\n",
       " 'emp.var.rate',\n",
       " 'cons.price.idx',\n",
       " 'cons.conf.idx',\n",
       " 'euribor3m',\n",
       " 'nr.employed',\n",
       " 'has_loan',\n",
       " 'job_admin.',\n",
       " 'job_blue-collar',\n",
       " 'job_entrepreneur',\n",
       " 'job_housemaid',\n",
       " 'job_management',\n",
       " 'job_retired',\n",
       " 'job_self-employed',\n",
       " 'job_services',\n",
       " 'job_student',\n",
       " 'job_technician',\n",
       " 'job_unemployed',\n",
       " 'marital_divorced',\n",
       " 'marital_married',\n",
       " 'marital_single',\n",
       " 'education_basic',\n",
       " 'education_high.school',\n",
       " 'education_illiterate',\n",
       " 'education_professional.course',\n",
       " 'education_university.degree',\n",
       " 'poutcome_failure',\n",
       " 'poutcome_nonexistent',\n",
       " 'poutcome_success',\n",
       " 'default_no',\n",
       " 'default_yes']"
      ]
     },
     "execution_count": 180,
     "metadata": {},
     "output_type": "execute_result"
    }
   ],
   "source": [
    "feature_names = num_original_feature_names + cat_new_feature_names\n",
    "feature_names"
   ]
  },
  {
   "cell_type": "code",
   "execution_count": 181,
   "metadata": {},
   "outputs": [
    {
     "data": {
      "text/html": [
       "<div>\n",
       "<style scoped>\n",
       "    .dataframe tbody tr th:only-of-type {\n",
       "        vertical-align: middle;\n",
       "    }\n",
       "\n",
       "    .dataframe tbody tr th {\n",
       "        vertical-align: top;\n",
       "    }\n",
       "\n",
       "    .dataframe thead th {\n",
       "        text-align: right;\n",
       "    }\n",
       "</style>\n",
       "<table border=\"1\" class=\"dataframe\">\n",
       "  <thead>\n",
       "    <tr style=\"text-align: right;\">\n",
       "      <th></th>\n",
       "      <th>importance</th>\n",
       "    </tr>\n",
       "  </thead>\n",
       "  <tbody>\n",
       "    <tr>\n",
       "      <th>age</th>\n",
       "      <td>0.211667</td>\n",
       "    </tr>\n",
       "    <tr>\n",
       "      <th>campaign</th>\n",
       "      <td>0.108300</td>\n",
       "    </tr>\n",
       "    <tr>\n",
       "      <th>previous</th>\n",
       "      <td>0.014541</td>\n",
       "    </tr>\n",
       "    <tr>\n",
       "      <th>emp.var.rate</th>\n",
       "      <td>0.062984</td>\n",
       "    </tr>\n",
       "    <tr>\n",
       "      <th>cons.price.idx</th>\n",
       "      <td>0.033971</td>\n",
       "    </tr>\n",
       "    <tr>\n",
       "      <th>cons.conf.idx</th>\n",
       "      <td>0.045967</td>\n",
       "    </tr>\n",
       "    <tr>\n",
       "      <th>euribor3m</th>\n",
       "      <td>0.204941</td>\n",
       "    </tr>\n",
       "    <tr>\n",
       "      <th>nr.employed</th>\n",
       "      <td>0.063573</td>\n",
       "    </tr>\n",
       "    <tr>\n",
       "      <th>has_loan</th>\n",
       "      <td>0.032438</td>\n",
       "    </tr>\n",
       "    <tr>\n",
       "      <th>job_admin.</th>\n",
       "      <td>0.014574</td>\n",
       "    </tr>\n",
       "    <tr>\n",
       "      <th>job_blue-collar</th>\n",
       "      <td>0.012764</td>\n",
       "    </tr>\n",
       "    <tr>\n",
       "      <th>job_entrepreneur</th>\n",
       "      <td>0.007098</td>\n",
       "    </tr>\n",
       "    <tr>\n",
       "      <th>job_housemaid</th>\n",
       "      <td>0.005140</td>\n",
       "    </tr>\n",
       "    <tr>\n",
       "      <th>job_management</th>\n",
       "      <td>0.009419</td>\n",
       "    </tr>\n",
       "    <tr>\n",
       "      <th>job_retired</th>\n",
       "      <td>0.006775</td>\n",
       "    </tr>\n",
       "    <tr>\n",
       "      <th>job_self-employed</th>\n",
       "      <td>0.006957</td>\n",
       "    </tr>\n",
       "    <tr>\n",
       "      <th>job_services</th>\n",
       "      <td>0.009714</td>\n",
       "    </tr>\n",
       "    <tr>\n",
       "      <th>job_student</th>\n",
       "      <td>0.004936</td>\n",
       "    </tr>\n",
       "    <tr>\n",
       "      <th>job_technician</th>\n",
       "      <td>0.012363</td>\n",
       "    </tr>\n",
       "    <tr>\n",
       "      <th>job_unemployed</th>\n",
       "      <td>0.005844</td>\n",
       "    </tr>\n",
       "    <tr>\n",
       "      <th>marital_divorced</th>\n",
       "      <td>0.010223</td>\n",
       "    </tr>\n",
       "    <tr>\n",
       "      <th>marital_married</th>\n",
       "      <td>0.013553</td>\n",
       "    </tr>\n",
       "    <tr>\n",
       "      <th>marital_single</th>\n",
       "      <td>0.012153</td>\n",
       "    </tr>\n",
       "    <tr>\n",
       "      <th>education_basic</th>\n",
       "      <td>0.013295</td>\n",
       "    </tr>\n",
       "    <tr>\n",
       "      <th>education_high.school</th>\n",
       "      <td>0.013963</td>\n",
       "    </tr>\n",
       "    <tr>\n",
       "      <th>education_illiterate</th>\n",
       "      <td>0.000366</td>\n",
       "    </tr>\n",
       "    <tr>\n",
       "      <th>education_professional.course</th>\n",
       "      <td>0.010716</td>\n",
       "    </tr>\n",
       "    <tr>\n",
       "      <th>education_university.degree</th>\n",
       "      <td>0.014755</td>\n",
       "    </tr>\n",
       "    <tr>\n",
       "      <th>poutcome_failure</th>\n",
       "      <td>0.006882</td>\n",
       "    </tr>\n",
       "    <tr>\n",
       "      <th>poutcome_nonexistent</th>\n",
       "      <td>0.007238</td>\n",
       "    </tr>\n",
       "    <tr>\n",
       "      <th>poutcome_success</th>\n",
       "      <td>0.022879</td>\n",
       "    </tr>\n",
       "    <tr>\n",
       "      <th>default_no</th>\n",
       "      <td>0.000006</td>\n",
       "    </tr>\n",
       "    <tr>\n",
       "      <th>default_yes</th>\n",
       "      <td>0.000005</td>\n",
       "    </tr>\n",
       "  </tbody>\n",
       "</table>\n",
       "</div>"
      ],
      "text/plain": [
       "                               importance\n",
       "age                              0.211667\n",
       "campaign                         0.108300\n",
       "previous                         0.014541\n",
       "emp.var.rate                     0.062984\n",
       "cons.price.idx                   0.033971\n",
       "cons.conf.idx                    0.045967\n",
       "euribor3m                        0.204941\n",
       "nr.employed                      0.063573\n",
       "has_loan                         0.032438\n",
       "job_admin.                       0.014574\n",
       "job_blue-collar                  0.012764\n",
       "job_entrepreneur                 0.007098\n",
       "job_housemaid                    0.005140\n",
       "job_management                   0.009419\n",
       "job_retired                      0.006775\n",
       "job_self-employed                0.006957\n",
       "job_services                     0.009714\n",
       "job_student                      0.004936\n",
       "job_technician                   0.012363\n",
       "job_unemployed                   0.005844\n",
       "marital_divorced                 0.010223\n",
       "marital_married                  0.013553\n",
       "marital_single                   0.012153\n",
       "education_basic                  0.013295\n",
       "education_high.school            0.013963\n",
       "education_illiterate             0.000366\n",
       "education_professional.course    0.010716\n",
       "education_university.degree      0.014755\n",
       "poutcome_failure                 0.006882\n",
       "poutcome_nonexistent             0.007238\n",
       "poutcome_success                 0.022879\n",
       "default_no                       0.000006\n",
       "default_yes                      0.000005"
      ]
     },
     "execution_count": 181,
     "metadata": {},
     "output_type": "execute_result"
    }
   ],
   "source": [
    "r = pd.DataFrame(i, index=feature_names, columns=['importance'])\n",
    "r"
   ]
  },
  {
   "cell_type": "code",
   "execution_count": 182,
   "metadata": {},
   "outputs": [
    {
     "data": {
      "text/html": [
       "<div>\n",
       "<style scoped>\n",
       "    .dataframe tbody tr th:only-of-type {\n",
       "        vertical-align: middle;\n",
       "    }\n",
       "\n",
       "    .dataframe tbody tr th {\n",
       "        vertical-align: top;\n",
       "    }\n",
       "\n",
       "    .dataframe thead th {\n",
       "        text-align: right;\n",
       "    }\n",
       "</style>\n",
       "<table border=\"1\" class=\"dataframe\">\n",
       "  <thead>\n",
       "    <tr style=\"text-align: right;\">\n",
       "      <th></th>\n",
       "      <th>importance</th>\n",
       "    </tr>\n",
       "  </thead>\n",
       "  <tbody>\n",
       "    <tr>\n",
       "      <th>age</th>\n",
       "      <td>0.211667</td>\n",
       "    </tr>\n",
       "    <tr>\n",
       "      <th>euribor3m</th>\n",
       "      <td>0.204941</td>\n",
       "    </tr>\n",
       "    <tr>\n",
       "      <th>campaign</th>\n",
       "      <td>0.108300</td>\n",
       "    </tr>\n",
       "    <tr>\n",
       "      <th>nr.employed</th>\n",
       "      <td>0.063573</td>\n",
       "    </tr>\n",
       "    <tr>\n",
       "      <th>emp.var.rate</th>\n",
       "      <td>0.062984</td>\n",
       "    </tr>\n",
       "    <tr>\n",
       "      <th>cons.conf.idx</th>\n",
       "      <td>0.045967</td>\n",
       "    </tr>\n",
       "    <tr>\n",
       "      <th>cons.price.idx</th>\n",
       "      <td>0.033971</td>\n",
       "    </tr>\n",
       "    <tr>\n",
       "      <th>has_loan</th>\n",
       "      <td>0.032438</td>\n",
       "    </tr>\n",
       "    <tr>\n",
       "      <th>poutcome_success</th>\n",
       "      <td>0.022879</td>\n",
       "    </tr>\n",
       "    <tr>\n",
       "      <th>education_university.degree</th>\n",
       "      <td>0.014755</td>\n",
       "    </tr>\n",
       "    <tr>\n",
       "      <th>job_admin.</th>\n",
       "      <td>0.014574</td>\n",
       "    </tr>\n",
       "    <tr>\n",
       "      <th>previous</th>\n",
       "      <td>0.014541</td>\n",
       "    </tr>\n",
       "    <tr>\n",
       "      <th>education_high.school</th>\n",
       "      <td>0.013963</td>\n",
       "    </tr>\n",
       "    <tr>\n",
       "      <th>marital_married</th>\n",
       "      <td>0.013553</td>\n",
       "    </tr>\n",
       "    <tr>\n",
       "      <th>education_basic</th>\n",
       "      <td>0.013295</td>\n",
       "    </tr>\n",
       "    <tr>\n",
       "      <th>job_blue-collar</th>\n",
       "      <td>0.012764</td>\n",
       "    </tr>\n",
       "    <tr>\n",
       "      <th>job_technician</th>\n",
       "      <td>0.012363</td>\n",
       "    </tr>\n",
       "    <tr>\n",
       "      <th>marital_single</th>\n",
       "      <td>0.012153</td>\n",
       "    </tr>\n",
       "    <tr>\n",
       "      <th>education_professional.course</th>\n",
       "      <td>0.010716</td>\n",
       "    </tr>\n",
       "    <tr>\n",
       "      <th>marital_divorced</th>\n",
       "      <td>0.010223</td>\n",
       "    </tr>\n",
       "    <tr>\n",
       "      <th>job_services</th>\n",
       "      <td>0.009714</td>\n",
       "    </tr>\n",
       "    <tr>\n",
       "      <th>job_management</th>\n",
       "      <td>0.009419</td>\n",
       "    </tr>\n",
       "    <tr>\n",
       "      <th>poutcome_nonexistent</th>\n",
       "      <td>0.007238</td>\n",
       "    </tr>\n",
       "    <tr>\n",
       "      <th>job_entrepreneur</th>\n",
       "      <td>0.007098</td>\n",
       "    </tr>\n",
       "    <tr>\n",
       "      <th>job_self-employed</th>\n",
       "      <td>0.006957</td>\n",
       "    </tr>\n",
       "    <tr>\n",
       "      <th>poutcome_failure</th>\n",
       "      <td>0.006882</td>\n",
       "    </tr>\n",
       "    <tr>\n",
       "      <th>job_retired</th>\n",
       "      <td>0.006775</td>\n",
       "    </tr>\n",
       "    <tr>\n",
       "      <th>job_unemployed</th>\n",
       "      <td>0.005844</td>\n",
       "    </tr>\n",
       "    <tr>\n",
       "      <th>job_housemaid</th>\n",
       "      <td>0.005140</td>\n",
       "    </tr>\n",
       "    <tr>\n",
       "      <th>job_student</th>\n",
       "      <td>0.004936</td>\n",
       "    </tr>\n",
       "    <tr>\n",
       "      <th>education_illiterate</th>\n",
       "      <td>0.000366</td>\n",
       "    </tr>\n",
       "    <tr>\n",
       "      <th>default_no</th>\n",
       "      <td>0.000006</td>\n",
       "    </tr>\n",
       "    <tr>\n",
       "      <th>default_yes</th>\n",
       "      <td>0.000005</td>\n",
       "    </tr>\n",
       "  </tbody>\n",
       "</table>\n",
       "</div>"
      ],
      "text/plain": [
       "                               importance\n",
       "age                              0.211667\n",
       "euribor3m                        0.204941\n",
       "campaign                         0.108300\n",
       "nr.employed                      0.063573\n",
       "emp.var.rate                     0.062984\n",
       "cons.conf.idx                    0.045967\n",
       "cons.price.idx                   0.033971\n",
       "has_loan                         0.032438\n",
       "poutcome_success                 0.022879\n",
       "education_university.degree      0.014755\n",
       "job_admin.                       0.014574\n",
       "previous                         0.014541\n",
       "education_high.school            0.013963\n",
       "marital_married                  0.013553\n",
       "education_basic                  0.013295\n",
       "job_blue-collar                  0.012764\n",
       "job_technician                   0.012363\n",
       "marital_single                   0.012153\n",
       "education_professional.course    0.010716\n",
       "marital_divorced                 0.010223\n",
       "job_services                     0.009714\n",
       "job_management                   0.009419\n",
       "poutcome_nonexistent             0.007238\n",
       "job_entrepreneur                 0.007098\n",
       "job_self-employed                0.006957\n",
       "poutcome_failure                 0.006882\n",
       "job_retired                      0.006775\n",
       "job_unemployed                   0.005844\n",
       "job_housemaid                    0.005140\n",
       "job_student                      0.004936\n",
       "education_illiterate             0.000366\n",
       "default_no                       0.000006\n",
       "default_yes                      0.000005"
      ]
     },
     "execution_count": 182,
     "metadata": {},
     "output_type": "execute_result"
    }
   ],
   "source": [
    "r.sort_values('importance', ascending=False)"
   ]
  },
  {
   "cell_type": "code",
   "execution_count": 183,
   "metadata": {},
   "outputs": [
    {
     "data": {
      "text/plain": [
       "<AxesSubplot:>"
      ]
     },
     "execution_count": 183,
     "metadata": {},
     "output_type": "execute_result"
    },
    {
     "data": {
      "image/png": "[encoded data removed]",
      "text/plain": [
       "<Figure size 432x288 with 1 Axes>"
      ]
     },
     "metadata": {
      "needs_background": "light"
     },
     "output_type": "display_data"
    }
   ],
   "source": [
    "r.sort_values('importance', ascending=False).plot.bar()"
   ]
  },
  {
   "cell_type": "code",
   "execution_count": 197,
   "metadata": {},
   "outputs": [],
   "source": [
    "num_features = ['age', 'campaign', 'previous','emp.var.rate','euribor3m','nr.employed', 'has_loan']\n",
    "                         \n",
    "cat_features = ['job', 'marital', 'education','poutcome','default']"
   ]
  },
  {
   "cell_type": "code",
   "execution_count": 198,
   "metadata": {},
   "outputs": [
    {
     "name": "stdout",
     "output_type": "stream",
     "text": [
      "best rf score is:  0.9218653116860235\n",
      "best rf score after feature selection is:  0.9218653116860235\n"
     ]
    }
   ],
   "source": [
    "# after removing some less importance and high correlated features \n",
    "# xg pipeline\n",
    "preprocessor = ColumnTransformer(\n",
    "    transformers=[\n",
    "        ('num_pipeline', num_pipeline, num_features),\n",
    "        ('cat_pipeline', cat_pipeline, cat_features),\n",
    "    ]\n",
    ")\n",
    "pipeline_rf = Pipeline([\n",
    "    ('preprocessor', preprocessor),\n",
    "    ('clf_rf', RandomForestClassifier(random_state=42)),\n",
    "])\n",
    "\n",
    "\n",
    "param_grid_rf = [\n",
    "    {\n",
    "        'clf_rf__criterion': ['entropy'], \n",
    "        'clf_rf__n_estimators': [150],\n",
    "        'clf_rf__min_samples_split': [10],\n",
    "        'clf_rf__max_depth': [35],\n",
    "       \n",
    "    }\n",
    "]\n",
    "\n",
    "\n",
    "# update the grid search \n",
    "grid_search_rf_updated = GridSearchCV(pipeline_rf, param_grid_rf, cv=10, scoring='accuracy')\n",
    "\n",
    "# train the model using the updated full pipeline\n",
    "grid_search_rf_updated.fit(X_train, y_train)\n",
    "\n",
    "print('best rf score is: ', grid_search_rf.best_score_)\n",
    "print('best rf score after feature selection is: ', grid_search_rf_updated.best_score_)\n"
   ]
  },
  {
   "cell_type": "markdown",
   "metadata": {},
   "source": [
    "## Persist the Model\n",
    "A pickle file is created to save the trained model which can be loaded in to make predictions."
   ]
  },
  {
   "cell_type": "code",
   "execution_count": 212,
   "metadata": {},
   "outputs": [
    {
     "data": {
      "text/plain": [
       "['clf-best.pickle']"
      ]
     },
     "execution_count": 212,
     "metadata": {},
     "output_type": "execute_result"
    }
   ],
   "source": [
    "# Save the model as a pickle file\n",
    "import joblib\n",
    "joblib.dump(clf_best, \"clf-best.pickle\")"
   ]
  },
  {
   "cell_type": "markdown",
   "metadata": {},
   "source": [
    "### Predictions:\n",
    "Load the model from saved pickle file and predict whether 2 clients (hypothetically created), will subscribe or not for term deposit based on tele-marketing campaign."
   ]
  },
  {
   "cell_type": "code",
   "execution_count": 213,
   "metadata": {},
   "outputs": [
    {
     "data": {
      "text/plain": [
       "Pipeline(steps=[('preprocessor',\n",
       "                 ColumnTransformer(transformers=[('num_pipeline',\n",
       "                                                  Pipeline(steps=[('scaler',\n",
       "                                                                   StandardScaler())]),\n",
       "                                                  ['age', 'campaign',\n",
       "                                                   'previous', 'emp.var.rate',\n",
       "                                                   'euribor3m', 'nr.employed',\n",
       "                                                   'has_loan']),\n",
       "                                                 ('cat_pipeline',\n",
       "                                                  Pipeline(steps=[('cat_imputer',\n",
       "                                                                   SimpleImputer(strategy='most_frequent')),\n",
       "                                                                  ('onehot',\n",
       "                                                                   OneHotEncoder())]),\n",
       "                                                  ['job', 'marital',\n",
       "                                                   'education', 'poutcome',\n",
       "                                                   'default'])])),\n",
       "                ('clf_rf',\n",
       "                 RandomForestClassifier(criterion='entropy', max_depth=35,\n",
       "                                        min_samples_split=10, n_estimators=150,\n",
       "                                        random_state=42))])"
      ]
     },
     "execution_count": 213,
     "metadata": {},
     "output_type": "execute_result"
    }
   ],
   "source": [
    "# Load the model from a pickle file\n",
    "saved_tree_clf = joblib.load(\"clf-best.pickle\")\n",
    "saved_tree_clf"
   ]
  },
  {
   "cell_type": "code",
   "execution_count": 216,
   "metadata": {},
   "outputs": [
    {
     "data": {
      "text/html": [
       "<div>\n",
       "<style scoped>\n",
       "    .dataframe tbody tr th:only-of-type {\n",
       "        vertical-align: middle;\n",
       "    }\n",
       "\n",
       "    .dataframe tbody tr th {\n",
       "        vertical-align: top;\n",
       "    }\n",
       "\n",
       "    .dataframe thead th {\n",
       "        text-align: right;\n",
       "    }\n",
       "</style>\n",
       "<table border=\"1\" class=\"dataframe\">\n",
       "  <thead>\n",
       "    <tr style=\"text-align: right;\">\n",
       "      <th></th>\n",
       "      <th>age</th>\n",
       "      <th>job</th>\n",
       "      <th>marital</th>\n",
       "      <th>education</th>\n",
       "      <th>default</th>\n",
       "      <th>campaign</th>\n",
       "      <th>previous</th>\n",
       "      <th>poutcome</th>\n",
       "      <th>emp.var.rate</th>\n",
       "      <th>cons.price.idx</th>\n",
       "      <th>cons.conf.idx</th>\n",
       "      <th>euribor3m</th>\n",
       "      <th>nr.employed</th>\n",
       "      <th>has_loan</th>\n",
       "    </tr>\n",
       "  </thead>\n",
       "  <tbody>\n",
       "    <tr>\n",
       "      <th>0</th>\n",
       "      <td>28</td>\n",
       "      <td>student</td>\n",
       "      <td>single</td>\n",
       "      <td>university.degree</td>\n",
       "      <td>yes</td>\n",
       "      <td>1</td>\n",
       "      <td>1</td>\n",
       "      <td>success</td>\n",
       "      <td>1.1</td>\n",
       "      <td>93.918</td>\n",
       "      <td>-42.7</td>\n",
       "      <td>4.857</td>\n",
       "      <td>5191</td>\n",
       "      <td>1</td>\n",
       "    </tr>\n",
       "  </tbody>\n",
       "</table>\n",
       "</div>"
      ],
      "text/plain": [
       "   age      job marital          education default  campaign  previous  \\\n",
       "0   28  student  single  university.degree     yes         1         1   \n",
       "\n",
       "  poutcome  emp.var.rate  cons.price.idx  cons.conf.idx  euribor3m  \\\n",
       "0  success           1.1          93.918          -42.7      4.857   \n",
       "\n",
       "   nr.employed  has_loan  \n",
       "0         5191         1  "
      ]
     },
     "execution_count": 216,
     "metadata": {},
     "output_type": "execute_result"
    }
   ],
   "source": [
    "customer1 = pd.DataFrame(\n",
    "    {\n",
    "        'age':[28],\n",
    "        'job':['student'],\n",
    "        'marital':['single'],\n",
    "        'education':['university.degree'],\n",
    "        'default':['yes'],\n",
    "        'campaign':[1],\n",
    "        'previous':[1],\n",
    "        'poutcome':['success'],\n",
    "        'emp.var.rate':[1.1],\n",
    "        'cons.price.idx':[93.918],\n",
    "        'cons.conf.idx':[-42.7],\n",
    "        'euribor3m':[4.857],\n",
    "        'nr.employed':[5191],        \n",
    "        'has_loan':[1]\n",
    "    \n",
    "    }\n",
    ")\n",
    "customer1\n"
   ]
  },
  {
   "cell_type": "code",
   "execution_count": 217,
   "metadata": {},
   "outputs": [
    {
     "data": {
      "text/plain": [
       "array([0])"
      ]
     },
     "execution_count": 217,
     "metadata": {},
     "output_type": "execute_result"
    }
   ],
   "source": [
    "pred1 = saved_tree_clf.predict(customer1)\n",
    "pred1"
   ]
  },
  {
   "cell_type": "code",
   "execution_count": 218,
   "metadata": {},
   "outputs": [
    {
     "data": {
      "text/html": [
       "<div>\n",
       "<style scoped>\n",
       "    .dataframe tbody tr th:only-of-type {\n",
       "        vertical-align: middle;\n",
       "    }\n",
       "\n",
       "    .dataframe tbody tr th {\n",
       "        vertical-align: top;\n",
       "    }\n",
       "\n",
       "    .dataframe thead th {\n",
       "        text-align: right;\n",
       "    }\n",
       "</style>\n",
       "<table border=\"1\" class=\"dataframe\">\n",
       "  <thead>\n",
       "    <tr style=\"text-align: right;\">\n",
       "      <th></th>\n",
       "      <th>age</th>\n",
       "      <th>job</th>\n",
       "      <th>marital</th>\n",
       "      <th>education</th>\n",
       "      <th>default</th>\n",
       "      <th>campaign</th>\n",
       "      <th>previous</th>\n",
       "      <th>poutcome</th>\n",
       "      <th>emp.var.rate</th>\n",
       "      <th>cons.price.idx</th>\n",
       "      <th>cons.conf.idx</th>\n",
       "      <th>euribor3m</th>\n",
       "      <th>nr.employed</th>\n",
       "      <th>has_loan</th>\n",
       "    </tr>\n",
       "  </thead>\n",
       "  <tbody>\n",
       "    <tr>\n",
       "      <th>0</th>\n",
       "      <td>39</td>\n",
       "      <td>self-employed</td>\n",
       "      <td>divorced</td>\n",
       "      <td>university.degree</td>\n",
       "      <td>no</td>\n",
       "      <td>1</td>\n",
       "      <td>1</td>\n",
       "      <td>success</td>\n",
       "      <td>-3.4</td>\n",
       "      <td>92.379</td>\n",
       "      <td>-29.8</td>\n",
       "      <td>0.755</td>\n",
       "      <td>5017.5</td>\n",
       "      <td>0</td>\n",
       "    </tr>\n",
       "  </tbody>\n",
       "</table>\n",
       "</div>"
      ],
      "text/plain": [
       "   age            job   marital          education default  campaign  \\\n",
       "0   39  self-employed  divorced  university.degree      no         1   \n",
       "\n",
       "   previous poutcome  emp.var.rate  cons.price.idx  cons.conf.idx  euribor3m  \\\n",
       "0         1  success          -3.4          92.379          -29.8      0.755   \n",
       "\n",
       "   nr.employed  has_loan  \n",
       "0       5017.5         0  "
      ]
     },
     "execution_count": 218,
     "metadata": {},
     "output_type": "execute_result"
    }
   ],
   "source": [
    "customer2 = pd.DataFrame(\n",
    "    {\n",
    "        'age':[39],\n",
    "        'job':['self-employed'],\n",
    "        'marital':['divorced'],\n",
    "        'education':['university.degree'],\n",
    "        'default':['no'],\n",
    "        'campaign':[1],\n",
    "        'previous':[1],\n",
    "        'poutcome':['success'],\n",
    "        'emp.var.rate':[-3.4],\n",
    "        'cons.price.idx':[92.379],\n",
    "        'cons.conf.idx':[-29.8],\n",
    "        'euribor3m':[0.755],\n",
    "        'nr.employed':[5017.5],       \n",
    "        'has_loan':[0]\n",
    "        \n",
    "\n",
    "    }\n",
    ")\n",
    "customer2"
   ]
  },
  {
   "cell_type": "code",
   "execution_count": 219,
   "metadata": {},
   "outputs": [
    {
     "data": {
      "text/plain": [
       "array([1])"
      ]
     },
     "execution_count": 219,
     "metadata": {},
     "output_type": "execute_result"
    }
   ],
   "source": [
    "pred1 = saved_tree_clf.predict(customer2)\n",
    "pred1"
   ]
  },
  {
   "cell_type": "markdown",
   "metadata": {},
   "source": [
    "**END**"
   ]
  }
 ],
 "metadata": {
  "kernelspec": {
   "display_name": "Python 3",
   "language": "python",
   "name": "python3"
  },
  "language_info": {
   "codemirror_mode": {
    "name": "ipython",
    "version": 3
   },
   "file_extension": ".py",
   "mimetype": "text/x-python",
   "name": "python",
   "nbconvert_exporter": "python",
   "pygments_lexer": "ipython3",
   "version": "3.5.6"
  }
 },
 "nbformat": 4,
 "nbformat_minor": 5
}
